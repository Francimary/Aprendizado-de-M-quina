{
 "cells": [
  {
   "cell_type": "markdown",
   "metadata": {},
   "source": [
    "# Trabalho 2 da disciplina Aprendizado de Máquina, constante da ementa do mestrado em ciência da computação no CEFET-RJ.\n",
    "Professor: Eduardo Bezerra      \n",
    "    \n",
    "Aluna: Francimary Garcia\n",
    "    \n",
    "Entrega: 31/10/2017"
   ]
  },
  {
   "cell_type": "markdown",
   "metadata": {},
   "source": [
    "# 1 Regressão Logística com Regularização"
   ]
  },
  {
   "cell_type": "markdown",
   "metadata": {},
   "source": [
    "# Implementar a regressão logística regularizada para prever se os microchips de uma usina de fabricação passam na garantia de qualidade (QA). \n",
    "Durante a QA, cada microchip passa por vários testes para garantir se está funcionando corretamente. Suponha que você seja o gerente de produto da fábrica e você tem os resultados de teste para alguns microchips em dois testes diferentes. A partir desses dois testes, você gostaria de determinar se os microchips deveriam ser aceitos ou rejeitados. Para ajudá-lo a tomar a decisão, você tem um conjunto de dados de resultados de testes anteriores sobre microchips, a partir do qual você pode construir um modelo de regressão logística. "
   ]
  },
  {
   "cell_type": "code",
   "execution_count": 380,
   "metadata": {
    "collapsed": true
   },
   "outputs": [],
   "source": [
    "import matplotlib.pyplot as plt\n",
    "import numpy as np\n",
    "from sklearn import linear_model\n",
    "import csv\n",
    "import pandas as pd\n",
    "import matplotlib.pyplot as plt\n",
    "from mpl_toolkits.mplot3d import Axes3D\n",
    "import pylab as pl\n",
    "import os \n",
    "import scipy.optimize as opt  \n",
    "%matplotlib inline\n",
    "\n",
    "\n",
    "from scipy.optimize import minimize\n",
    "\n",
    "from sklearn.preprocessing import PolynomialFeatures"
   ]
  },
  {
   "cell_type": "markdown",
   "metadata": {},
   "source": [
    "Leitura dos dados do arquivo fornecido contendo os resultados obtidos nos testes 1 e 2 e o status de aceitação(1) ou rejeição(0) do produto."
   ]
  },
  {
   "cell_type": "code",
   "execution_count": 381,
   "metadata": {},
   "outputs": [
    {
     "data": {
      "text/html": [
       "<div>\n",
       "<style>\n",
       "    .dataframe thead tr:only-child th {\n",
       "        text-align: right;\n",
       "    }\n",
       "\n",
       "    .dataframe thead th {\n",
       "        text-align: left;\n",
       "    }\n",
       "\n",
       "    .dataframe tbody tr th {\n",
       "        vertical-align: top;\n",
       "    }\n",
       "</style>\n",
       "<table border=\"1\" class=\"dataframe\">\n",
       "  <thead>\n",
       "    <tr style=\"text-align: right;\">\n",
       "      <th></th>\n",
       "      <th>Teste1</th>\n",
       "      <th>Teste2</th>\n",
       "      <th>Status</th>\n",
       "    </tr>\n",
       "  </thead>\n",
       "  <tbody>\n",
       "    <tr>\n",
       "      <th>0</th>\n",
       "      <td>0.051267</td>\n",
       "      <td>0.69956</td>\n",
       "      <td>1</td>\n",
       "    </tr>\n",
       "    <tr>\n",
       "      <th>1</th>\n",
       "      <td>-0.092742</td>\n",
       "      <td>0.68494</td>\n",
       "      <td>1</td>\n",
       "    </tr>\n",
       "    <tr>\n",
       "      <th>2</th>\n",
       "      <td>-0.213710</td>\n",
       "      <td>0.69225</td>\n",
       "      <td>1</td>\n",
       "    </tr>\n",
       "    <tr>\n",
       "      <th>3</th>\n",
       "      <td>-0.375000</td>\n",
       "      <td>0.50219</td>\n",
       "      <td>1</td>\n",
       "    </tr>\n",
       "    <tr>\n",
       "      <th>4</th>\n",
       "      <td>-0.513250</td>\n",
       "      <td>0.46564</td>\n",
       "      <td>1</td>\n",
       "    </tr>\n",
       "  </tbody>\n",
       "</table>\n",
       "</div>"
      ],
      "text/plain": [
       "     Teste1   Teste2  Status\n",
       "0  0.051267  0.69956       1\n",
       "1 -0.092742  0.68494       1\n",
       "2 -0.213710  0.69225       1\n",
       "3 -0.375000  0.50219       1\n",
       "4 -0.513250  0.46564       1"
      ]
     },
     "execution_count": 381,
     "metadata": {},
     "output_type": "execute_result"
    }
   ],
   "source": [
    "arquivo = 'C:\\\\\\\\Users\\\\\\\\Raymundo\\\\\\\\Documents\\\\\\\\Franci\\\\\\\\MestradoCEFET\\\\\\\\7 Aprendizado de Máquina\\\\\\\\Trabalho 2\\\\\\\\ex2data2.txt'\n",
    "\n",
    "ficheiro = open(arquivo, \"r\")\n",
    "\n",
    "dados = pd.read_csv(ficheiro, names = ['Teste1', 'Teste2','Status'])\n",
    "\n",
    "dados.head()"
   ]
  },
  {
   "cell_type": "code",
   "execution_count": 382,
   "metadata": {
    "collapsed": true
   },
   "outputs": [],
   "source": [
    "y = np.c_[dados.values[:,2]]\n",
    "X = dados.values[:,0:2]"
   ]
  },
  {
   "cell_type": "code",
   "execution_count": 383,
   "metadata": {
    "collapsed": true
   },
   "outputs": [],
   "source": [
    "positive = dados[dados['Status'].isin([1])]  \n",
    "negative = dados[dados['Status'].isin([0])]"
   ]
  },
  {
   "cell_type": "markdown",
   "metadata": {},
   "source": [
    "# 1.1 - Visualização dos Dados"
   ]
  },
  {
   "cell_type": "code",
   "execution_count": 384,
   "metadata": {},
   "outputs": [
    {
     "data": {
      "text/plain": [
       "<matplotlib.text.Text at 0x262be1e3828>"
      ]
     },
     "execution_count": 384,
     "metadata": {},
     "output_type": "execute_result"
    },
    {
     "data": {
      "image/png": "[encoded data removed]",
      "text/plain": [
       "<matplotlib.figure.Figure at 0x262c1e89be0>"
      ]
     },
     "metadata": {},
     "output_type": "display_data"
    }
   ],
   "source": [
    "fig, ax = plt.subplots(figsize=(12,8))  \n",
    "ax.scatter(positive['Teste1'], positive['Teste2'], s=50, c='b', marker='o', label='Aceito')  \n",
    "ax.scatter(negative['Teste1'], negative['Teste2'], s=50, c='r', marker='x', label='Rejeitado')  \n",
    "ax.legend()  \n",
    "ax.set_xlabel('Teste 1 Score')  \n",
    "ax.set_ylabel('Teste 2 Score')  "
   ]
  },
  {
   "cell_type": "markdown",
   "metadata": {},
   "source": [
    "Pela visualização do gráfico de dispersão acima, podemos notar que não existe uma distribuição linear entre os dados fornecidos e nem mesmo existe um limite de decisão linear que funcione bem nesses dados. Para cenários desta natureza uma maneira de lidarmos é construir atributos que são derivados de polinômios dos atributos originais. Alimentando o classificador com uma boa quantidade de atributos polinomiais."
   ]
  },
  {
   "cell_type": "markdown",
   "metadata": {},
   "source": [
    "# 1.2 - Mapeamento de características (feature mapping)"
   ]
  },
  {
   "cell_type": "markdown",
   "metadata": {},
   "source": [
    "Nesta seção acrescentaremos novas características ao vetor dado, derivadas das características originais do mesmo.\n",
    "Como mostrado abaixo, partiremos de um vetor com 3 características para um vetor com 28 dimensões,  pois o mesmo mapeará as características para todos os termos polinomiais de x1 e x2, até a sexta potência."
   ]
  },
  {
   "cell_type": "markdown",
   "metadata": {},
   "source": [
    "Um classiﬁcador que usa regressão logística treinado nesse vetor de características de maior dimensão terá uma fronteira de decisão mais complexa e parecerá não linear quando desenhado em um gráﬁco bidimensional.\n",
    "Embora o mapeamento de características nos permita construir um classiﬁcador mais expressivo, também é mais suscetível a sobreajuste (overﬁtting). "
   ]
  },
  {
   "cell_type": "code",
   "execution_count": 385,
   "metadata": {},
   "outputs": [
    {
     "data": {
      "text/plain": [
       "(118, 3)"
      ]
     },
     "execution_count": 385,
     "metadata": {},
     "output_type": "execute_result"
    }
   ],
   "source": [
    "dados.shape"
   ]
  },
  {
   "cell_type": "code",
   "execution_count": 386,
   "metadata": {},
   "outputs": [
    {
     "data": {
      "text/plain": [
       "(118, 28)"
      ]
     },
     "execution_count": 386,
     "metadata": {},
     "output_type": "execute_result"
    }
   ],
   "source": [
    "\n",
    "# Note that this function inserts a column with 'ones' in the design matrix for the intercept.\n",
    "poly = PolynomialFeatures(6)\n",
    "XX = poly.fit_transform(dados.values[:,0:2])\n",
    "XX.shape\n"
   ]
  },
  {
   "cell_type": "markdown",
   "metadata": {},
   "source": [
    "# 1.3 Função de custo e gradiente\n"
   ]
  },
  {
   "cell_type": "markdown",
   "metadata": {},
   "source": [
    "Implementar o código para calcular a função de custo e o gradiente para a regressão logística \"regularizada\"."
   ]
  },
  {
   "cell_type": "markdown",
   "metadata": {},
   "source": [
    "As novas funções de Custo e Gradiente implementadas possuem uma nova variável chamada \"reg\" que é uma função dos valores dos parâmetros. \n",
    "À medida que os parâmetros aumentam, a penalização adicionada à função de custo aumenta. \n"
   ]
  },
  {
   "cell_type": "code",
   "execution_count": 387,
   "metadata": {
    "collapsed": true
   },
   "outputs": [],
   "source": [
    "def sigmoid(z):  \n",
    "    return 1 / (1 + np.exp(-z))"
   ]
  },
  {
   "cell_type": "code",
   "execution_count": 388,
   "metadata": {
    "collapsed": true
   },
   "outputs": [],
   "source": [
    "def costFunctionReg(theta, reg, *args):\n",
    "    m = y.size\n",
    "    h = sigmoid(XX.dot(theta))\n",
    "    \n",
    "    J = -1*(1/m)*(np.log(h).T.dot(y)+np.log(1-h).T.dot(1-y)) + (reg/(2*m))*np.sum(np.square(theta[1:]))\n",
    "    \n",
    "    if np.isnan(J[0]):\n",
    "        return(np.inf)\n",
    "    return(J[0])"
   ]
  },
  {
   "cell_type": "code",
   "execution_count": 389,
   "metadata": {
    "collapsed": true
   },
   "outputs": [],
   "source": [
    "def gradientReg(theta, reg, *args):\n",
    "    m = y.size\n",
    "    h = sigmoid(XX.dot(theta.reshape(-1,1)))\n",
    "      \n",
    "    grad = (1/m)*XX.T.dot(h-y) + (reg/m)*np.r_[[[0]],theta[1:].reshape(-1,1)]\n",
    "        \n",
    "    return(grad.flatten())"
   ]
  },
  {
   "cell_type": "code",
   "execution_count": 390,
   "metadata": {},
   "outputs": [
    {
     "name": "stdout",
     "output_type": "stream",
     "text": [
      "O erro para o modelo com theta igual a zero é: 0.6931\n"
     ]
    }
   ],
   "source": [
    "initial_theta = np.zeros(XX.shape[1])\n",
    "\n",
    "print(\"O erro para o modelo com theta igual a zero é: %.4f\" %costFunctionReg(initial_theta, 1, XX, y))"
   ]
  },
  {
   "cell_type": "markdown",
   "metadata": {},
   "source": [
    "\n",
    "Utilizando opt.fmin_tnc para minimizar uma função com variáveis ​​sujeitas a limites, usando informações de gradiente em um algoritmo Newton truncado e encontrando os parâmetros para o modelo ótimo."
   ]
  },
  {
   "cell_type": "code",
   "execution_count": 391,
   "metadata": {},
   "outputs": [
    {
     "name": "stdout",
     "output_type": "stream",
     "text": [
      "Os valores dos parâmetros para o modelo ótimo são:\n"
     ]
    },
    {
     "data": {
      "text/plain": [
       "(array([ 1.27271026,  0.62529964,  1.18111686, -2.01987399, -0.91743189,\n",
       "        -1.43166929,  0.12393228, -0.36553118, -0.35725405, -0.17516291,\n",
       "        -1.45817009, -0.05098418, -0.61558559, -0.27469165, -1.19271299,\n",
       "        -0.24217841, -0.20603304, -0.04466177, -0.27778946, -0.29539514,\n",
       "        -0.45645982, -1.04319154,  0.02779373, -0.29244863,  0.01555759,\n",
       "        -0.32742403, -0.14389149, -0.92467488]), 32, 1)"
      ]
     },
     "execution_count": 391,
     "metadata": {},
     "output_type": "execute_result"
    }
   ],
   "source": [
    "result2 = opt.fmin_tnc(func=costFunctionReg, x0=initial_theta, fprime=gradientReg, args=(XX.all(),y, 1)) \n",
    "print(\"Os valores dos parâmetros para o modelo ótimo são:\")\n",
    "result2 "
   ]
  },
  {
   "cell_type": "markdown",
   "metadata": {},
   "source": [
    "# 1.4 Esboço da fronteira de decisão\n"
   ]
  },
  {
   "cell_type": "markdown",
   "metadata": {},
   "source": [
    "Esboçar a fronteira de decisão que foi aprendida para separar os exemplos positivos dos negativos."
   ]
  },
  {
   "cell_type": "code",
   "execution_count": 392,
   "metadata": {
    "collapsed": true
   },
   "outputs": [],
   "source": [
    "def predict(theta, X, threshold=0.5):\n",
    "    p = sigmoid(X.dot(theta.T)) >= threshold\n",
    "    return(p.astype('int'))"
   ]
  },
  {
   "cell_type": "code",
   "execution_count": 393,
   "metadata": {
    "collapsed": true
   },
   "outputs": [],
   "source": [
    "def plotData(data, label_x, label_y, label_pos, label_neg, axes=None):\n",
    "    # Get indexes for class 0 and class 1\n",
    "    neg = data.values[:,2] == 0\n",
    "    pos = data.values[:,2] == 1\n",
    "    \n",
    "    # If no specific axes object has been passed, get the current axes.\n",
    "    if axes == None:\n",
    "        axes = plt.gca()\n",
    "    axes.scatter(data.values[pos][:,0], data.values[pos][:,1], marker='+', c='k', s=60, linewidth=2, label=label_pos)\n",
    "    axes.scatter(data.values[neg][:,0], data.values[neg][:,1], c='y', s=60, label=label_neg)\n",
    "    axes.set_xlabel(label_x)\n",
    "    axes.set_ylabel(label_y)\n",
    "    axes.legend(frameon= True, fancybox = True);"
   ]
  },
  {
   "cell_type": "code",
   "execution_count": 394,
   "metadata": {},
   "outputs": [
    {
     "name": "stderr",
     "output_type": "stream",
     "text": [
      "C:\\Users\\Raymundo\\Anaconda3\\lib\\site-packages\\ipykernel_launcher.py:2: RuntimeWarning: overflow encountered in exp\n",
      "  \n"
     ]
    },
    {
     "data": {
      "image/png": "[encoded data removed]",
      "text/plain": [
       "<matplotlib.figure.Figure at 0x262be1e35c0>"
      ]
     },
     "metadata": {},
     "output_type": "display_data"
    }
   ],
   "source": [
    "fig, axes = plt.subplots(1,3, sharey = True, figsize=(17,5))\n",
    "\n",
    "# Decision boundaries\n",
    "# Lambda = 0 : No regularization --> too flexible, overfitting the training data\n",
    "# Lambda = 1 : Looks about right\n",
    "# Lambda = 100 : Too much regularization --> high bias\n",
    "\n",
    "for i, C in enumerate([0, 1, 100]):\n",
    "    # Optimize costFunctionReg\n",
    "    res2 = minimize(costFunctionReg, initial_theta, args=(C, XX, y), method=None, jac=gradientReg, \n",
    "                    options={'maxiter':3000})\n",
    "    \n",
    "    \n",
    "    # Accuracy\n",
    "    accuracy = 100*sum(predict(res2.x, XX) == y.ravel())/y.size  \n",
    "    \n",
    " # Scatter plot of X,y\n",
    "    plotData(dados, 'Teste do Microchip 1', 'Teste do Microchip  2', 'y = 1', 'y = 0', axes.flatten()[i])\n",
    "    \n",
    "    # Plot decisionboundary\n",
    "    x1_min, x1_max = X[:,0].min(), X[:,0].max(),\n",
    "    x2_min, x2_max = X[:,1].min(), X[:,1].max(),\n",
    "    xx1, xx2 = np.meshgrid(np.linspace(x1_min, x1_max), np.linspace(x2_min, x2_max))\n",
    "    h = sigmoid(poly.fit_transform(np.c_[xx1.ravel(), xx2.ravel()]).dot(res2.x))\n",
    "    h = h.reshape(xx1.shape)\n",
    "    axes.flatten()[i].contour(xx1, xx2, h, [0.5], linewidths=1, colors='g');       \n",
    "    axes.flatten()[i].set_title('Precisão do treino {}% com Lambda = {}'.format(np.round(accuracy, decimals=2), C))"
   ]
  },
  {
   "cell_type": "markdown",
   "metadata": {},
   "source": [
    "Nos gráficos acima podemos observar o comportamento do modelo para os três valores de Lambda. \n",
    "\n",
    "Com o Lambda=0 observamos o comportamento de sobreajuste, com o Lambda=1 o comportamento mais ajustado e com Lambda = 100 o comportamento com alto viés. "
   ]
  },
  {
   "cell_type": "markdown",
   "metadata": {},
   "source": [
    "# 2 Regressão Linear com Regularização"
   ]
  },
  {
   "cell_type": "markdown",
   "metadata": {},
   "source": [
    "Implementar a regressão linear com regularização para prever a quantidade de água ﬂuindo de uma barragem usando a mudança do nível da água em um reservatório.\n",
    "Além de realizar diagnósticos dos algoritmos de aprendizado por meio de depuração e examinar os efeitos de viés (bias) e da variância (variance)"
   ]
  },
  {
   "cell_type": "code",
   "execution_count": 395,
   "metadata": {
    "collapsed": true
   },
   "outputs": [],
   "source": [
    "import scipy.io\n",
    "import numpy as np\n",
    "import matplotlib.pyplot as plt\n",
    "\n",
    "from scipy.io import loadmat\n",
    "from scipy.optimize import minimize\n",
    "\n",
    "from sklearn.linear_model import LinearRegression, Ridge\n",
    "from sklearn.preprocessing import PolynomialFeatures\n",
    "\n",
    "import seaborn as sns"
   ]
  },
  {
   "cell_type": "markdown",
   "metadata": {},
   "source": [
    "O arquivo de dados fornecido possui registros históricos na mudança no nível da água, X, e da quantidade de água que sai da barragem, y. Este conjunto de dados é dividido em três partes:\n",
    "\n",
    "    Treinamento: X e y\n",
    "    Validação: Xval e yval e\n",
    "    Teste: Xtest e ytest\n"
   ]
  },
  {
   "cell_type": "code",
   "execution_count": 396,
   "metadata": {},
   "outputs": [
    {
     "name": "stdout",
     "output_type": "stream",
     "text": [
      "X_train: (12, 2)\n",
      "y_train: (12, 1)\n",
      "Xval: (21, 2)\n",
      "yval: (21, 1)\n",
      "Xtest: (21, 2)\n",
      "ytest: (21, 1)\n"
     ]
    }
   ],
   "source": [
    "\n",
    "data = loadmat('C:\\\\\\\\Users\\\\\\\\Raymundo\\\\\\\\Documents\\\\\\\\Franci\\\\\\\\MestradoCEFET\\\\\\\\7 Aprendizado de Máquina\\\\\\\\Trabalho 2\\\\\\\\ex5data1.mat')\n",
    "\n",
    "data.keys()\n",
    "\n",
    "y_train = data['y']\n",
    "X_train = np.c_[np.ones_like(data['X']), data['X']]\n",
    "\n",
    "yval = data['yval']\n",
    "Xval = np.c_[np.ones_like(data['Xval']), data['Xval']]\n",
    "\n",
    "ytest = data['ytest']\n",
    "Xtest = np.c_[np.ones_like(data['Xtest']), data['Xtest']]\n",
    "\n",
    "\n",
    "print('X_train:', X_train.shape)\n",
    "print('y_train:', y_train.shape)\n",
    "print('Xval:', Xval.shape)\n",
    "print('yval:', yval.shape)\n",
    "print('Xtest:', Xtest.shape)\n",
    "print('ytest:', ytest.shape)\n"
   ]
  },
  {
   "cell_type": "markdown",
   "metadata": {},
   "source": [
    "# 2.1 Visualização dos Dados\n"
   ]
  },
  {
   "cell_type": "code",
   "execution_count": 397,
   "metadata": {},
   "outputs": [
    {
     "data": {
      "image/png": "[encoded data removed]",
      "text/plain": [
       "<matplotlib.figure.Figure at 0x262c1ea5a90>"
      ]
     },
     "metadata": {},
     "output_type": "display_data"
    }
   ],
   "source": [
    "plt.scatter(X_train[:,1], y_train, s=50, c='r', marker='x', linewidths=1)\n",
    "plt.xlabel('Mudanças no nível da água (x)')\n",
    "plt.ylabel('Fluxo de água saindo da barragem (y)')\n",
    "plt.ylim(ymin=0);\n"
   ]
  },
  {
   "cell_type": "markdown",
   "metadata": {},
   "source": [
    "Acima visualização dos dados de treinamento, onde pode-se notar a tendência de aumento do fluxo de água saindo da barragem quando aumentam as mudanças no nível de água."
   ]
  },
  {
   "cell_type": "markdown",
   "metadata": {},
   "source": [
    "# 2.2 Função de custo da regressão linear regularizada\n"
   ]
  },
  {
   "cell_type": "markdown",
   "metadata": {},
   "source": [
    "Escrever uma função para calcular a função de custo da regressão linear regularizada. "
   ]
  },
  {
   "cell_type": "code",
   "execution_count": 398,
   "metadata": {
    "collapsed": true
   },
   "outputs": [],
   "source": [
    "def linearRegCostFunction(theta, X, y, reg):\n",
    "    m = y.size\n",
    "    \n",
    "    h = X.dot(theta)\n",
    "    \n",
    "    J = (1/(2*m))*np.sum(np.square(h-y)) + (reg/(2*m))*np.sum(np.square(theta[1:]))\n",
    "   \n",
    "    return(J)"
   ]
  },
  {
   "cell_type": "code",
   "execution_count": 399,
   "metadata": {},
   "outputs": [
    {
     "name": "stdout",
     "output_type": "stream",
     "text": [
      " O valor do custo do modelo para theta inicializado com (1,1) é 303.9515\n"
     ]
    }
   ],
   "source": [
    "initial_theta = np.ones((X_train.shape[1],1))\n",
    "cost = linearRegCostFunction(initial_theta, X_train, y_train, 0)\n",
    "\n",
    "print(\" O valor do custo do modelo para theta inicializado com (1,1) é %.4f\" %cost)\n"
   ]
  },
  {
   "cell_type": "markdown",
   "metadata": {},
   "source": [
    "# 2.3 Gradiente na regressão linear regularizada\n"
   ]
  },
  {
   "cell_type": "markdown",
   "metadata": {},
   "source": [
    "Adicionar código para calcular o gradiente."
   ]
  },
  {
   "cell_type": "code",
   "execution_count": 400,
   "metadata": {
    "collapsed": true
   },
   "outputs": [],
   "source": [
    "def lrgradientReg(theta, X, y, reg):\n",
    "    m = y.size\n",
    "    \n",
    "    h = X.dot(theta.reshape(-1,1))\n",
    "        \n",
    "    grad = (1/m)*(X.T.dot(h-y))+ (reg/m)*np.r_[[[0]],theta[1:].reshape(-1,1)]\n",
    "        \n",
    "    return(grad.flatten())"
   ]
  },
  {
   "cell_type": "code",
   "execution_count": 401,
   "metadata": {},
   "outputs": [
    {
     "name": "stdout",
     "output_type": "stream",
     "text": [
      "O valor do gradiente para theta inicializado com (1,1) é \n",
      "[ -15.30301567  598.16741084]\n"
     ]
    }
   ],
   "source": [
    "gradient = lrgradientReg(initial_theta, X_train, y_train, 0)\n",
    "print(\"O valor do gradiente para theta inicializado com (1,1) é \")\n",
    "print(gradient)\n",
    "grad=gradient"
   ]
  },
  {
   "cell_type": "markdown",
   "metadata": {},
   "source": [
    "# 2.4 Ajustando os parâmetros da regressão linear\n"
   ]
  },
  {
   "cell_type": "markdown",
   "metadata": {},
   "source": [
    "Computar os valores ótimos para θ, mas sem usar regularização, i.e., deﬁna λ = 0. Após isso, construir um gráﬁco para visualiar o modelo construído."
   ]
  },
  {
   "cell_type": "code",
   "execution_count": 402,
   "metadata": {
    "collapsed": true
   },
   "outputs": [],
   "source": [
    "def trainLinearReg(X, y, reg):\n",
    "    #initial_theta = np.zeros((X.shape[1],1))\n",
    "    initial_theta = np.array([[15],[15]])\n",
    "    # For some reason the minimize() function does not converge when using\n",
    "    # zeros as initial theta.\n",
    "        \n",
    "    res = minimize(linearRegCostFunction, initial_theta, args=(X,y,reg), method=None, jac=lrgradientReg,\n",
    "                   options={'maxiter':5000})\n",
    "    \n",
    "    return(res)"
   ]
  },
  {
   "cell_type": "code",
   "execution_count": 403,
   "metadata": {},
   "outputs": [
    {
     "data": {
      "text/plain": [
       "      fun: 1604.4002999186634\n",
       " hess_inv: array([[ 1.03142187,  0.00617881],\n",
       "       [ 0.00617881,  0.001215  ]])\n",
       "      jac: array([  3.42437190e-12,  -5.70371898e-10])\n",
       "  message: 'Optimization terminated successfully.'\n",
       "     nfev: 6\n",
       "      nit: 4\n",
       "     njev: 6\n",
       "   status: 0\n",
       "  success: True\n",
       "        x: array([ 13.08790351,   0.36777923])"
      ]
     },
     "execution_count": 403,
     "metadata": {},
     "output_type": "execute_result"
    }
   ],
   "source": [
    "fit = trainLinearReg(X_train, y_train, 0)\n",
    "fit"
   ]
  },
  {
   "cell_type": "code",
   "execution_count": 404,
   "metadata": {},
   "outputs": [
    {
     "name": "stdout",
     "output_type": "stream",
     "text": [
      "[ 13.08790351   0.36777923]\n",
      "1604.40029992\n"
     ]
    }
   ],
   "source": [
    "regr = LinearRegression(fit_intercept=False)\n",
    "regr.fit(X_train, y_train.ravel())\n",
    "print(regr.coef_)\n",
    "print(linearRegCostFunction(regr.coef_, X_train, y_train, 0))"
   ]
  },
  {
   "cell_type": "code",
   "execution_count": 405,
   "metadata": {},
   "outputs": [
    {
     "data": {
      "image/png": "[encoded data removed]",
      "text/plain": [
       "<matplotlib.figure.Figure at 0x262be6ed668>"
      ]
     },
     "metadata": {},
     "output_type": "display_data"
    }
   ],
   "source": [
    "plt.plot(np.linspace(-50,40), (fit.x[0]+ (fit.x[1]*np.linspace(-50,40))), label='Scipy optimize')\n",
    "#plt.plot(np.linspace(-50,40), (regr.coef_[0]+ (regr.coef_[1]*np.linspace(-50,40))), label='Scikit-learn')\n",
    "plt.scatter(X_train[:,1], y_train, s=50, c='r', marker='x', linewidths=1)\n",
    "plt.xlabel('Mudança no nível de água (x)')\n",
    "plt.ylabel('Fluxo de água saindo da barragem (y)')\n",
    "plt.ylim(ymin=-5)\n",
    "plt.xlim(xmin=-50)\n",
    "plt.legend(loc=4);"
   ]
  },
  {
   "cell_type": "markdown",
   "metadata": {},
   "source": [
    "Acima gráfico representando o ajuste linear do modelo."
   ]
  },
  {
   "cell_type": "markdown",
   "metadata": {},
   "source": [
    "# 3 Viés-Variância"
   ]
  },
  {
   "cell_type": "markdown",
   "metadata": {},
   "source": [
    "Um conceito importante no Aprendizado de Máquina é o relacionamento entre o viés (bias) e a variância (variance) de um modelo de aprendizado. Modelos com viés elevado não são suﬁcientemente complexos para os dados e tendem a sofrer de subajuste (underﬁtting), enquanto que modelos com alta variância tendem a sofrer de sobreajuste. \n",
    "\n",
    "Nesta parte do trabalho, produzir gráﬁcos dos erros de treinamento e teste na forma de curvas de aprendizado para diagnosticar problemas de viés e variância.\n"
   ]
  },
  {
   "cell_type": "markdown",
   "metadata": {},
   "source": [
    "# 3.1 Curvas de Aprendizado\n"
   ]
  },
  {
   "cell_type": "markdown",
   "metadata": {},
   "source": [
    "Implementar código para gerar as curvas de aprendizado que serão úteis na depuração de algoritmos de aprendizagem. "
   ]
  },
  {
   "cell_type": "markdown",
   "metadata": {},
   "source": [
    "Uma curva de aprendizagem traça erros de treinamento e de validação cruzada como funções do tamanho do conjunto de treinamento."
   ]
  },
  {
   "cell_type": "code",
   "execution_count": 406,
   "metadata": {
    "collapsed": true
   },
   "outputs": [],
   "source": [
    "def learningCurve(X, y, Xval, yval, reg):\n",
    "    m = y.size\n",
    "    \n",
    "    error_train = np.zeros((m, 1))\n",
    "    error_val = np.zeros((m, 1))\n",
    "    \n",
    "    for i in np.arange(m):\n",
    "        res = trainLinearReg(X[:i+1], y[:i+1], reg)\n",
    "        error_train[i] = linearRegCostFunction(res.x, X[:i+1], y[:i+1], reg)\n",
    "        error_val[i] = linearRegCostFunction(res.x, Xval, yval, reg)\n",
    "    \n",
    "    return(error_train, error_val)"
   ]
  },
  {
   "cell_type": "code",
   "execution_count": 407,
   "metadata": {
    "collapsed": true
   },
   "outputs": [],
   "source": [
    "t_error, v_error = learningCurve(X_train, y_train, Xval, yval, 0)"
   ]
  },
  {
   "cell_type": "code",
   "execution_count": 408,
   "metadata": {},
   "outputs": [
    {
     "data": {
      "image/png": "[encoded data removed]",
      "text/plain": [
       "<matplotlib.figure.Figure at 0x262bdc00cf8>"
      ]
     },
     "metadata": {},
     "output_type": "display_data"
    }
   ],
   "source": [
    "plt.plot(np.arange(1,13), t_error, label='Erro no Treinamento')\n",
    "plt.plot(np.arange(1,13), v_error, label='Erro na Validação')\n",
    "plt.title('Curva de Aprendizado - Regressão Linear')\n",
    "plt.xlabel('Número de exemplos de Treinamento')\n",
    "plt.ylabel('Erro')\n",
    "plt.legend();"
   ]
  },
  {
   "cell_type": "markdown",
   "metadata": {},
   "source": [
    "Observamos que os erros de treinamento e de validação cruzada são ambos altos quando o número de exemplos de treinamento é aumentado. Isso reﬂete o viés alto do modelo (o modelo de regressão linear é muito simples e não consegue se ajustar bem ao conjunto de dados). \n",
    "\n",
    "Na próxima seção, implementar regressão polinomial para ajustar um modelo melhor a este conjunto de dados.\n"
   ]
  },
  {
   "cell_type": "markdown",
   "metadata": {},
   "source": [
    "# 4 Regressão Polinomial\n"
   ]
  },
  {
   "cell_type": "markdown",
   "metadata": {},
   "source": [
    "O problema com nosso modelo linear é que ele é muito simples para os dados e resultou em subajuste (viés alto). Nesta parte, resolver esse problema adicionando mais características ao modelo através da Regressão Polinomial. "
   ]
  },
  {
   "cell_type": "code",
   "execution_count": 409,
   "metadata": {},
   "outputs": [
    {
     "name": "stdout",
     "output_type": "stream",
     "text": [
      "(12, 2)\n"
     ]
    },
    {
     "data": {
      "text/plain": [
       "(12, 9)"
      ]
     },
     "execution_count": 409,
     "metadata": {},
     "output_type": "execute_result"
    }
   ],
   "source": [
    "print(X_train.shape)\n",
    "poly = PolynomialFeatures(degree=8)\n",
    "X_train_poly = poly.fit_transform(X_train[:,1].reshape(-1,1))\n",
    "X_train_poly.shape\n"
   ]
  },
  {
   "cell_type": "markdown",
   "metadata": {},
   "source": [
    "A partir dos dados originais de treinamento X_train, incluímos mais carateríticas à matriz, utilizando a função PolinomialFeatures com grau 8, obtendo uma matriz 12X9."
   ]
  },
  {
   "cell_type": "markdown",
   "metadata": {},
   "source": [
    "# 5 Regressão Polinomial - Aprendizado\n"
   ]
  },
  {
   "cell_type": "markdown",
   "metadata": {},
   "source": [
    "Treinar um modelo de regressão polinomial usando sua função de custo da regressão linear.\n",
    "\n",
    "Apesar de existirem termos polinomiais no vector de características, ainda estamos resolvendo um problema de otimização de regressão linear. Os termos polinomiais simplesmente se transformaram em características que podemos usar para aplicar regressão linear. Usar a mesma função de custo e gradiente que implementada para a parte anterior deste trabalho."
   ]
  },
  {
   "cell_type": "code",
   "execution_count": 410,
   "metadata": {
    "collapsed": true
   },
   "outputs": [],
   "source": [
    "def featureNormalize(X):\n",
    "    #FEATURENORMALIZE Normalizes the features in X \n",
    "    #   FEATURENORMALIZE(X) returns a normalized version of X where\n",
    "    #   the mean value of each feature is 0 and the standard deviation\n",
    "    #   is 1. This is often a good preprocessing step to do when\n",
    "    #   working with learning algorithms.\n",
    "\n",
    "    mu = np.mean(X, axis=0)\n",
    "    X_norm = X - mu\n",
    "\n",
    "    sigma = np.std(X_norm, axis=0)\n",
    "    X_norm = X_norm/sigma\n",
    "\n",
    "    return X_norm, mu, sigma\n"
   ]
  },
  {
   "cell_type": "code",
   "execution_count": 411,
   "metadata": {
    "collapsed": true
   },
   "outputs": [],
   "source": [
    "def polyFeatures(X, p):\n",
    "    \n",
    "    # initialize X_poly to be equal to the single-column X\n",
    "    X_poly = X\n",
    "\n",
    "    # if p is equal or greater than 2\n",
    "    if p >= 2:\n",
    "\n",
    "        # for each number between column 2 (index 1) and last column\n",
    "        for k in range(1,p):\n",
    "\n",
    "            # add k-th column of polynomial features where k-th column is X.^k\n",
    "            X_poly = np.column_stack((X_poly, np.power(X,k+1)))\n",
    "            \n",
    "\n",
    "    return X_poly"
   ]
  },
  {
   "cell_type": "code",
   "execution_count": 412,
   "metadata": {},
   "outputs": [
    {
     "name": "stdout",
     "output_type": "stream",
     "text": [
      "Exemplo de treinamento normalizado 1:\n",
      "[ 1.         -0.29829632  0.9696688  -0.96564216  0.59215143 -0.22170204\n",
      "  0.55114726 -0.58769127  0.17475633 -0.24297567  0.1176616  -0.40598316\n",
      " -0.07612106 -0.23180217 -0.10300593 -0.30185286 -0.18254108]\n"
     ]
    }
   ],
   "source": [
    "p = 8;\n",
    "\n",
    "m = X.shape[0]\n",
    "# Map X onto Polynomial Features and Normalize\n",
    "X_poly = polyFeatures(X, p)\n",
    "X_poly, mu, sigma = featureNormalize(X_poly)  # Normalize\n",
    "X_poly = np.column_stack((np.ones((m,1)), X_poly)) # Add Ones\n",
    "\n",
    "# # Map X_poly_test and normalize (using mu and sigma)\n",
    "X_poly_test = polyFeatures(Xtest, p)\n",
    "X_poly_test = X_poly_test - mu\n",
    "X_poly_test = X_poly_test / sigma\n",
    "X_poly_test = np.column_stack((np.ones((X_poly_test.shape[0],1)), X_poly_test)) # Add Ones\n",
    "\n",
    "# # Map X_poly_val and normalize (using mu and sigma)\n",
    "X_poly_val = polyFeatures(Xval, p)\n",
    "X_poly_val = X_poly_val - mu\n",
    "X_poly_val = X_poly_val / sigma\n",
    "X_poly_val = np.column_stack((np.ones((X_poly_val.shape[0],1)), X_poly_val)) # Add Ones\n",
    "\n",
    "print('Exemplo de treinamento normalizado 1:')\n",
    "print(X_poly[1, :])"
   ]
  },
  {
   "cell_type": "markdown",
   "metadata": {
    "collapsed": true
   },
   "source": [
    "# Parte 2 do Trabalho 2"
   ]
  },
  {
   "cell_type": "markdown",
   "metadata": {},
   "source": [
    "Implementar o algoritmo de detecção de anomalia e aplicá-lo para detectar servidores com falha em uma rede. \n",
    "Na segunda parte, usar a filtragem colaborativa para criar um sistema de recomendação para filmes."
   ]
  },
  {
   "cell_type": "markdown",
   "metadata": {},
   "source": [
    "# 2- Detecção de Anomalias"
   ]
  },
  {
   "cell_type": "markdown",
   "metadata": {},
   "source": [
    "Implementar um algoritmo de detecção de anomalia para detectar comportamentos anômalos nos servidores de um centro de dados. \n",
    "As características medem a vazão (throughput) (mb/s) e a latência (ms) de resposta de cada servidor. Enquanto seus servidores estavam funcionando, \n",
    "foram coletados m = 307 exemplos de como eles estavam se comportando. Há a suspeita de que a grande maioria desses exemplos são exemplos ”normais”(não\n",
    "anômalos) dos servidores que operam normalmente, mas também pode haver alguns exemplos de servidores que atuam de forma anômala nesse conjunto de\n",
    "dados.\n",
    "Usar um modelo gaussiano para detectar exemplos anômalos em seu conjunto de dados. Usar um conjunto de dados 2D que permitirá a visualização\n",
    "do que o algoritmo está fazendo. Nesse conjunto de dados, ajustar uma distribuição gaussiana e então encontrar valores que têm probabilidade\n",
    "muito baixa e, portanto, podem ser considerados anomalias."
   ]
  },
  {
   "cell_type": "markdown",
   "metadata": {},
   "source": [
    "# 2.1 Distribuição Gaussiana"
   ]
  },
  {
   "cell_type": "markdown",
   "metadata": {},
   "source": [
    "Dado um conjunto de treinamento {x(1), . . . , x(m)} (onde x(i) ∈ Rn), estimar a distribuição gaussiana para cada uma das características xj .\n",
    "Para cada característica j = 1, . . . , n, encontrar os parâmetros µj e σ2j que se encaixam nos dados na j-ésima dimensão x(1), ..., x(m) (a j-ésima dimensão de cada exemplo).\n",
    "A distribuição gaussiana é dada por\n",
    "p(x; µ, σ2) = 1√2πσexp \u0012−(x − µ)22σ2\u0013"
   ]
  },
  {
   "cell_type": "code",
   "execution_count": 413,
   "metadata": {
    "collapsed": true
   },
   "outputs": [],
   "source": [
    "import numpy as np  \n",
    "import pandas as pd  \n",
    "import matplotlib.pyplot as plt  \n",
    "import seaborn as sb  \n",
    "from scipy.io import loadmat  \n",
    "%matplotlib inline\n"
   ]
  },
  {
   "cell_type": "code",
   "execution_count": 414,
   "metadata": {},
   "outputs": [
    {
     "data": {
      "text/plain": [
       "(307, 2)"
      ]
     },
     "execution_count": 414,
     "metadata": {},
     "output_type": "execute_result"
    }
   ],
   "source": [
    "data = loadmat('C:\\\\\\\\Users\\\\\\\\Raymundo\\\\\\\\Documents\\\\\\\\Franci\\\\\\\\MestradoCEFET\\\\\\\\7 Aprendizado de Máquina\\\\\\\\Trabalho 2\\\\\\\\ex8data1.mat')  \n",
    "X = data['X']  \n",
    "X.shape "
   ]
  },
  {
   "cell_type": "code",
   "execution_count": 415,
   "metadata": {},
   "outputs": [
    {
     "data": {
      "text/plain": [
       "<matplotlib.collections.PathCollection at 0x262be7a2dd8>"
      ]
     },
     "execution_count": 415,
     "metadata": {},
     "output_type": "execute_result"
    },
    {
     "data": {
      "image/png": "[encoded data removed]",
      "text/plain": [
       "<matplotlib.figure.Figure at 0x262be7a2390>"
      ]
     },
     "metadata": {},
     "output_type": "display_data"
    }
   ],
   "source": [
    "fig, ax = plt.subplots(figsize=(12,8))  \n",
    "ax.scatter(X[:,0], X[:,1]) "
   ]
  },
  {
   "cell_type": "markdown",
   "metadata": {},
   "source": [
    "Pelo gráfico acima podemos identificar a existência de um agrupamento de dados em uma região central, com alguns valores mais longe do agrupamento. Neste exemplo, os pontos mais afastados podem ser considerados anomalias. Para concluirmos essa dedução, devemos estimar uma distribuição gaussiana para cada característica nos dados."
   ]
  },
  {
   "cell_type": "markdown",
   "metadata": {},
   "source": [
    "# 2.2 Estimativa de parâmetros para uma gaussiana"
   ]
  },
  {
   "cell_type": "markdown",
   "metadata": {},
   "source": [
    "Estimar os parâmetros, (µj , σ2j), da j-ésima característica usando as equações apresentadas em aula.\n",
    "A tarefa é implementar uma função estimativaGaussiana que toma como entrada a matriz de dados X e deve produzir um vetor de dimensão n mu\n",
    "que contém a média de todas as características n e outro vetor de dimensão n sigma2 que contém as variâncias de todas as características.\n"
   ]
  },
  {
   "cell_type": "code",
   "execution_count": 416,
   "metadata": {},
   "outputs": [
    {
     "name": "stdout",
     "output_type": "stream",
     "text": [
      "As médias do vetor dado são: \n",
      "[ 14.11222578  14.99771051]\n",
      " As variâncias do vetor dado são: \n",
      "[ 1.83263141  1.70974533]\n"
     ]
    }
   ],
   "source": [
    "def estimativaGaussiana(X):  \n",
    "    mu = X.mean(axis=0)\n",
    "    sigma = X.var(axis=0)\n",
    "\n",
    "    return mu, sigma\n",
    "\n",
    "mu, sigma = estimativaGaussiana(X)  \n",
    "mu, sigma  \n",
    "print(\"As médias do vetor dado são: \" )\n",
    "print(mu)\n",
    "print(\" As variâncias do vetor dado são: \" )\n",
    "print(sigma)"
   ]
  },
  {
   "cell_type": "markdown",
   "metadata": {},
   "source": [
    "# 2.3 Selecionando E"
   ]
  },
  {
   "cell_type": "markdown",
   "metadata": {},
   "source": [
    "Agora que os parâmetros gaussianos foram avaliados, você pode investigar quais exemplos têm uma probabilidade muito alta dada essa distribuição e quais\n",
    "exemplos têm uma probabilidade muito baixa. Os exemplos de baixa probabilidade\n",
    "são mais prováveis de ser as anomalias em nosso conjunto de dados. Uma maneira de determinar quais exemplos são anomalias é selecionar um limite E com base em um conjunto de validação cruzada. Nesta parte do exercício,\n",
    "deve ser implementado um algoritmo para selecionar o limite E usando a medida F1 em um conjunto de validação cruzada. Implementar código usando um conjunto de validação cruzada \n",
    "{(x(1)cv , y(1)cv ), . . . , x(m)cv , y(m)cv )}, onde o rótulo y = 1 corresponde a um exemplo anômalo. Para cada exemplo no conjunto de validação, deve-se computar Pr(x(i)cv ). O vetor de todas essas probabilidades \n",
    "Pr(x(1)cv ), . . . , Pr(x(mcv)cv ), assim como os rótulos correspondentes, devem ser passados como retorno do código implementado."
   ]
  },
  {
   "cell_type": "code",
   "execution_count": 417,
   "metadata": {},
   "outputs": [
    {
     "data": {
      "text/plain": [
       "((307, 2), (307, 1))"
      ]
     },
     "execution_count": 417,
     "metadata": {},
     "output_type": "execute_result"
    }
   ],
   "source": [
    "Xval = data['Xval']  \n",
    "yval = data['yval']\n",
    "\n",
    "Xval.shape, yval.shape  "
   ]
  },
  {
   "cell_type": "markdown",
   "metadata": {},
   "source": [
    "Abaixo está o cálculo da probabilidade de um ponto de dados pertencer a uma distribuição normal. A função stats.norm do SciPy realiza esta atividade."
   ]
  },
  {
   "cell_type": "code",
   "execution_count": 418,
   "metadata": {},
   "outputs": [
    {
     "name": "stdout",
     "output_type": "stream",
     "text": [
      "Probabilidade de um ponto de dados pertencer a Normal:0.1936\n"
     ]
    }
   ],
   "source": [
    "from scipy import stats\n",
    "dist = stats.norm(mu[0], sigma[0])\n",
    "print(\"Probabilidade de um ponto de dados pertencer a Normal:%.4f\" %dist.pdf(15))\n"
   ]
  },
  {
   "cell_type": "markdown",
   "metadata": {},
   "source": [
    "Também podemos passar em uma matriz para a função de densidade de probabilidade e obter a densidade de probabilidade em todos os pontos do conjunto de dados."
   ]
  },
  {
   "cell_type": "code",
   "execution_count": 419,
   "metadata": {},
   "outputs": [
    {
     "data": {
      "text/plain": [
       "array([ 0.183842  ,  0.20221694,  0.21746136,  0.19778763,  0.20858956,\n",
       "        0.21652359,  0.16991291,  0.15123542,  0.1163989 ,  0.1594734 ,\n",
       "        0.21716057,  0.21760472,  0.20141857,  0.20157497,  0.21711385,\n",
       "        0.21758775,  0.21695576,  0.2138258 ,  0.21057069,  0.1173018 ,\n",
       "        0.20765108,  0.21717452,  0.19510663,  0.21702152,  0.17429399,\n",
       "        0.15413455,  0.21000109,  0.20223586,  0.21031898,  0.21313426,\n",
       "        0.16158946,  0.2170794 ,  0.17825767,  0.17414633,  0.1264951 ,\n",
       "        0.19723662,  0.14538809,  0.21766361,  0.21191386,  0.21729442,\n",
       "        0.21238912,  0.18799417,  0.21259798,  0.21752767,  0.20616968,\n",
       "        0.21520366,  0.1280081 ,  0.21768113,  0.21539967,  0.16913173])"
      ]
     },
     "execution_count": 419,
     "metadata": {},
     "output_type": "execute_result"
    }
   ],
   "source": [
    "\n",
    "dist.pdf(X[:,0])[0:50]  "
   ]
  },
  {
   "cell_type": "markdown",
   "metadata": {},
   "source": [
    "Vamos calcular e salvar a densidade de probabilidade de cada um dos valores em nosso conjunto de dados, dados os parâmetros do modelo gaussiano que calculamos acima."
   ]
  },
  {
   "cell_type": "code",
   "execution_count": 420,
   "metadata": {},
   "outputs": [
    {
     "data": {
      "text/plain": [
       "(307, 2)"
      ]
     },
     "execution_count": 420,
     "metadata": {},
     "output_type": "execute_result"
    }
   ],
   "source": [
    "\n",
    "p = np.zeros((X.shape[0], X.shape[1]))  \n",
    "p[:,0] = stats.norm(mu[0], sigma[0]).pdf(X[:,0])  \n",
    "p[:,1] = stats.norm(mu[1], sigma[1]).pdf(X[:,1])\n",
    "\n",
    "p.shape "
   ]
  },
  {
   "cell_type": "markdown",
   "metadata": {},
   "source": [
    "Também precisamos fazer isso para o conjunto de validação (usando os mesmos parâmetros do modelo). Usaremos essas probabilidades combinadas com o rótulo verdadeiro para determinar o limite de probabilidade ótimo para atribuir pontos de dados como anomalias."
   ]
  },
  {
   "cell_type": "code",
   "execution_count": 421,
   "metadata": {},
   "outputs": [
    {
     "data": {
      "text/plain": [
       "(307, 2)"
      ]
     },
     "execution_count": 421,
     "metadata": {},
     "output_type": "execute_result"
    }
   ],
   "source": [
    "pval = np.zeros((Xval.shape[0], Xval.shape[1]))  \n",
    "pval[:,0] = stats.norm(mu[0], sigma[0]).pdf(Xval[:,0])  \n",
    "pval[:,1] = stats.norm(mu[1], sigma[1]).pdf(Xval[:,1])  \n",
    "pval.shape"
   ]
  },
  {
   "cell_type": "markdown",
   "metadata": {},
   "source": [
    "A função selectThreshold deve retornar dois valores; o primeiro é o limite selecionado E. Se um exemplo x tiver uma baixa probabilidade Pr(x) < E, então\n",
    "é considerado uma anomalia. A função também deve retornar a pontuação F1,\n",
    "o que indica o quão bem você está realizando a tarefa de encontrar as anomalias verdadeiras, dado um determinado limite. Para muitos valores diferentes de E,\n",
    "calcular o resultado F1 resultante ao calcular quantos exemplos o limite atual classifica corretamente e incorretamente.\n"
   ]
  },
  {
   "cell_type": "markdown",
   "metadata": {},
   "source": [
    "Precisamos de uma função que encontre o melhor valor limiar, dados os valores de densidade de probabilidade e os rótulos verdadeiros. Para fazer isso, calcularemos a pontuação F1 para valores variáveis de epsilon. F1 é uma função do número de verdadeiros positivos, falsos positivos e falsos negativos. "
   ]
  },
  {
   "cell_type": "code",
   "execution_count": 422,
   "metadata": {},
   "outputs": [
    {
     "name": "stderr",
     "output_type": "stream",
     "text": [
      "C:\\Users\\Raymundo\\Anaconda3\\lib\\site-packages\\ipykernel_launcher.py:15: RuntimeWarning: invalid value encountered in double_scalars\n",
      "  from ipykernel import kernelapp as app\n"
     ]
    },
    {
     "name": "stdout",
     "output_type": "stream",
     "text": [
      "O melhor valor de Epsilon é: 0.0096\n",
      "O melhor valor valor de F1 é: 0.7143\n"
     ]
    }
   ],
   "source": [
    "def select_threshold(pval, yval):  \n",
    "    best_epsilon = 0\n",
    "    best_f1 = 0\n",
    "    f1 = 0\n",
    "\n",
    "    step = (pval.max() - pval.min()) / 1000\n",
    "\n",
    "    for epsilon in np.arange(pval.min(), pval.max(), step):\n",
    "        preds = pval < epsilon\n",
    "\n",
    "        tp = np.sum(np.logical_and(preds == 1, yval == 1)).astype(float)\n",
    "        fp = np.sum(np.logical_and(preds == 1, yval == 0)).astype(float)\n",
    "        fn = np.sum(np.logical_and(preds == 0, yval == 1)).astype(float)\n",
    "\n",
    "        precision = tp / (tp + fp)\n",
    "        recall = tp / (tp + fn)\n",
    "        f1 = (2 * precision * recall) / (precision + recall)\n",
    "\n",
    "        if f1 > best_f1:\n",
    "            best_f1 = f1\n",
    "            best_epsilon = epsilon\n",
    "\n",
    "    return best_epsilon, best_f1\n",
    "# Validation data\n",
    "epsilon, f1 = select_threshold(pval, yval)  \n",
    "print(\"O melhor valor de Epsilon é: %.4f\" %epsilon)\n",
    "print(\"O melhor valor valor de F1 é: %.4f\" %f1)  "
   ]
  },
  {
   "cell_type": "markdown",
   "metadata": {},
   "source": [
    "Podemos aplicar o limiar ao conjunto de dados e visualizar os resultados."
   ]
  },
  {
   "cell_type": "code",
   "execution_count": 423,
   "metadata": {},
   "outputs": [
    {
     "data": {
      "text/plain": [
       "(array([300, 301, 301, 303, 303, 304, 306, 306], dtype=int64),\n",
       " array([1, 0, 1, 0, 1, 0, 0, 1], dtype=int64))"
      ]
     },
     "execution_count": 423,
     "metadata": {},
     "output_type": "execute_result"
    }
   ],
   "source": [
    "# indexes of the values considered to be outliers\n",
    "# Train data\n",
    "outliers = np.where(p < epsilon)\n",
    "outliers"
   ]
  },
  {
   "cell_type": "markdown",
   "metadata": {},
   "source": [
    "Podemos visualizar quais pontos foram identificados como outliers."
   ]
  },
  {
   "cell_type": "code",
   "execution_count": 424,
   "metadata": {},
   "outputs": [
    {
     "data": {
      "text/plain": [
       "<matplotlib.collections.PathCollection at 0x262bf2acdd8>"
      ]
     },
     "execution_count": 424,
     "metadata": {},
     "output_type": "execute_result"
    },
    {
     "data": {
      "image/png": "[encoded data removed]",
      "text/plain": [
       "<matplotlib.figure.Figure at 0x262be845198>"
      ]
     },
     "metadata": {},
     "output_type": "display_data"
    }
   ],
   "source": [
    "\n",
    "fig, ax = plt.subplots(figsize=(12,8))  \n",
    "ax.scatter(X[:,0], X[:,1])  \n",
    "ax.scatter(X[outliers[0],0], X[outliers[0],1], s=50, color='r', marker='o')  "
   ]
  },
  {
   "cell_type": "markdown",
   "metadata": {},
   "source": [
    "No gráfico acima, podemos visualizar em vermelho os pontos identificados como outliers."
   ]
  },
  {
   "cell_type": "markdown",
   "metadata": {},
   "source": [
    "# 3 Sistemas de Recomendação"
   ]
  },
  {
   "cell_type": "markdown",
   "metadata": {},
   "source": [
    "Implementar o algoritmo de aprendizagem de filtragem colaborativa e aplicá-lo a um conjunto de dados de avaliações de filmes. \n",
    "Este conjunto de dados consiste em classificações em uma escala de 1 a 5. O conjunto de dados tem nu = 943 usuários e nm = 1682 filmes. O arquivo que contém o\n",
    "conjunto de dados tem nome ex8_movies.mat e contém as variáveis Y e R."
   ]
  },
  {
   "cell_type": "markdown",
   "metadata": {},
   "source": [
    "Os motores de recomendação usam medidas de similaridade com itens e usuários para examinar as preferências históricas de um usuário para fazer recomendações para novas \"coisas\" em que o usuário possa estar interessado. Neste exercício, implementaremos um algoritmo de sistema de recomendação particular chamado filtragem colaborativa e aplicá-lo para um conjunto de dados de classificações de filmes."
   ]
  },
  {
   "cell_type": "code",
   "execution_count": 425,
   "metadata": {},
   "outputs": [
    {
     "data": {
      "text/plain": [
       "{'R': array([[1, 1, 0, ..., 1, 0, 0],\n",
       "        [1, 0, 0, ..., 0, 0, 1],\n",
       "        [1, 0, 0, ..., 0, 0, 0],\n",
       "        ..., \n",
       "        [0, 0, 0, ..., 0, 0, 0],\n",
       "        [0, 0, 0, ..., 0, 0, 0],\n",
       "        [0, 0, 0, ..., 0, 0, 0]], dtype=uint8),\n",
       " 'Y': array([[5, 4, 0, ..., 5, 0, 0],\n",
       "        [3, 0, 0, ..., 0, 0, 5],\n",
       "        [4, 0, 0, ..., 0, 0, 0],\n",
       "        ..., \n",
       "        [0, 0, 0, ..., 0, 0, 0],\n",
       "        [0, 0, 0, ..., 0, 0, 0],\n",
       "        [0, 0, 0, ..., 0, 0, 0]], dtype=uint8),\n",
       " '__globals__': [],\n",
       " '__header__': b'MATLAB 5.0 MAT-file, Platform: GLNXA64, Created on: Thu Dec  1 17:19:26 2011',\n",
       " '__version__': '1.0'}"
      ]
     },
     "execution_count": 425,
     "metadata": {},
     "output_type": "execute_result"
    }
   ],
   "source": [
    "data = loadmat('C:\\\\\\\\Users\\\\\\\\Raymundo\\\\\\\\Documents\\\\\\\\Franci\\\\\\\\MestradoCEFET\\\\\\\\7 Aprendizado de Máquina\\\\\\\\Trabalho 2\\\\\\\\ex8_movies.mat')  \n",
    "data  "
   ]
  },
  {
   "cell_type": "markdown",
   "metadata": {},
   "source": [
    "# 3.1 Conjunto de dados de classificações de filme"
   ]
  },
  {
   "cell_type": "markdown",
   "metadata": {},
   "source": [
    "Y é uma matriz de (número de filmes X número de usuários) contendo classificações de 1 a 5. R é uma matriz \"indicador\" contendo valores binários indicando se um usuário classificou um filme ou não. Ambos devem ter a mesma forma."
   ]
  },
  {
   "cell_type": "markdown",
   "metadata": {},
   "source": [
    "O objetivo da filtragem colaborativa é prever as classificações de filmes para os filmes que os usuários ainda não classificaram, ou seja, as entradas com R(i, j) = 0. Isso permitirá recomendar os filmes com classificações mais altas previstas para outros usuários."
   ]
  },
  {
   "cell_type": "code",
   "execution_count": 426,
   "metadata": {},
   "outputs": [
    {
     "data": {
      "text/plain": [
       "((1682, 943), (1682, 943))"
      ]
     },
     "execution_count": 426,
     "metadata": {},
     "output_type": "execute_result"
    }
   ],
   "source": [
    "Y = data['Y']  \n",
    "R = data['R']  \n",
    "Y.shape, R.shape  "
   ]
  },
  {
   "cell_type": "markdown",
   "metadata": {},
   "source": [
    "Podemos observar a classificação média dos filmes com uma média de uma linha em Y para índices onde uma classificação está presente."
   ]
  },
  {
   "cell_type": "code",
   "execution_count": 427,
   "metadata": {},
   "outputs": [
    {
     "name": "stdout",
     "output_type": "stream",
     "text": [
      " Classificação média dos filmes:2.5832\n"
     ]
    }
   ],
   "source": [
    "print(\" Classificação média dos filmes:%.4f\" %Y[1,R[1,:]].mean()  )"
   ]
  },
  {
   "cell_type": "markdown",
   "metadata": {},
   "source": [
    "Também podemos tentar \"visualizar\" os dados, representando a matriz como se fosse uma imagem. Não podemos tirar muito disso, mas nos dá uma idéia de uma densidade relativa de classificações entre usuários e filmes."
   ]
  },
  {
   "cell_type": "code",
   "execution_count": 428,
   "metadata": {},
   "outputs": [
    {
     "data": {
      "image/png": "[encoded data removed]",
      "text/plain": [
       "<matplotlib.figure.Figure at 0x262c1f69b00>"
      ]
     },
     "metadata": {},
     "output_type": "display_data"
    }
   ],
   "source": [
    "fig, ax = plt.subplots(figsize=(12,12))  \n",
    "ax.imshow(Y)  \n",
    "ax.set_xlabel('Usuários')  \n",
    "ax.set_ylabel('Filmes')  \n",
    "fig.tight_layout() "
   ]
  },
  {
   "cell_type": "markdown",
   "metadata": {},
   "source": [
    "# 3.2 Algoritmo de aprendizagem de filtragem colaborativa"
   ]
  },
  {
   "cell_type": "markdown",
   "metadata": {},
   "source": [
    "Implementar o algoritmo de filtragem colaborativa. Deve iniciar implementando a funçãoo de custo (sem regularização). O algoritmo de filtragem colaborativa no contexto das recomendações de filmes considera um conjunto de vetores de parâmetros n-dimensionais x(i), . . . , x(nm)e θ(1), . . . , θ(nu), onde o modelo prediz a avaliação para o filme i pelo usuário j como y(i,j) = (θ(j))T x(i). \n",
    "Dado um conjunto de dados que consiste em um conjunto de avaliações produzidas por alguns usuários para alguns filmes, o algoritmo deve aprender os vetores de parâmetros x(i), . . . , x(nm)e θ(1), . . . , θ(nu)que produzem o melhor ajuste (i.e., minimizam o erro quadrático)."
   ]
  },
  {
   "cell_type": "markdown",
   "metadata": {},
   "source": [
    "Abaixo implementação da função de custo para filtragem colaborativa. Intuitivamente, o \"custo\" é o grau em que um conjunto de previsões de classificação de filmes se desviam das previsões verdadeiras. A equação de custo é dada no texto do exercício. Baseia-se em dois conjuntos de matrizes de parâmetros denominados X e Theta no texto. Estes são \"desenrolados\" na entrada \"params\" para que possamos usar o pacote de otimização da SciPy mais tarde. "
   ]
  },
  {
   "cell_type": "code",
   "execution_count": 429,
   "metadata": {
    "collapsed": true
   },
   "outputs": [],
   "source": [
    "def cost(params, Y, R, num_features):  \n",
    "    Y = np.matrix(Y)  # (1682, 943)\n",
    "    R = np.matrix(R)  # (1682, 943)\n",
    "    num_movies = Y.shape[0]\n",
    "    num_users = Y.shape[1]\n",
    "\n",
    "    # reshape the parameter array into parameter matrices\n",
    "    X = np.matrix(np.reshape(params[:num_movies * num_features], (num_movies, num_features)))  # (1682, 10)\n",
    "    Theta = np.matrix(np.reshape(params[num_movies * num_features:], (num_users, num_features)))  # (943, 10)\n",
    "\n",
    "    # initializations\n",
    "    J = 0\n",
    "\n",
    "    # compute the cost\n",
    "    error = np.multiply((X * Theta.T) - Y, R)  # (1682, 943)\n",
    "    squared_error = np.power(error, 2)  # (1682, 943)\n",
    "    J = (1. / 2) * np.sum(squared_error)\n",
    "\n",
    "    return J"
   ]
  },
  {
   "cell_type": "markdown",
   "metadata": {},
   "source": [
    "# 3.2.1 Função de custo da filtragem colaborativa\n"
   ]
  },
  {
   "cell_type": "markdown",
   "metadata": {},
   "source": [
    "Para fazer teste, utilizaremos um conjunto de parâmetros pré-treinados que podemos avaliar. Para reduzir o tempo de avaliação, analisaremos apenas um pequeno subconjunto dos dados constante no arquivo ex8_movieParams.mat."
   ]
  },
  {
   "cell_type": "code",
   "execution_count": 430,
   "metadata": {},
   "outputs": [
    {
     "data": {
      "text/plain": [
       "((1682, 10), (943, 10))"
      ]
     },
     "execution_count": 430,
     "metadata": {},
     "output_type": "execute_result"
    }
   ],
   "source": [
    "users = 4  \n",
    "movies = 5  \n",
    "features = 3\n",
    "\n",
    "params_data = loadmat('C:\\\\\\\\Users\\\\\\\\Raymundo\\\\\\\\Documents\\\\\\\\Franci\\\\\\\\MestradoCEFET\\\\\\\\7 Aprendizado de Máquina\\\\\\\\Trabalho 2\\\\\\\\ex8_movieParams.mat')  \n",
    "\n",
    "X = params_data['X']\n",
    "Theta = params_data['Theta']\n",
    "X.shape, Theta.shape\n"
   ]
  },
  {
   "cell_type": "code",
   "execution_count": 431,
   "metadata": {},
   "outputs": [
    {
     "name": "stdout",
     "output_type": "stream",
     "text": [
      "Custo da Filtragem Colaborativa: 22.2246\n"
     ]
    }
   ],
   "source": [
    "X_sub = X[:movies, :features]  \n",
    "Theta_sub = Theta[:users, :features]  \n",
    "Y_sub = Y[:movies, :users]  \n",
    "R_sub = R[:movies, :users]\n",
    "\n",
    "params = np.concatenate((np.ravel(X_sub), np.ravel(Theta_sub)))\n",
    "\n",
    "print(\"Custo da Filtragem Colaborativa: %.4f\" %cost(params, Y_sub, R_sub, features)  )"
   ]
  },
  {
   "cell_type": "markdown",
   "metadata": {},
   "source": [
    "# 3.2.2 Gradiente de filtragem colaborativa"
   ]
  },
  {
   "cell_type": "markdown",
   "metadata": {},
   "source": [
    "A função de custo será expandida para calcular também os gradientes."
   ]
  },
  {
   "cell_type": "markdown",
   "metadata": {},
   "source": [
    "Implementar o gradiente (sem regularização). Especificamente, deverá implementar código para retornar as variáveis X grad e Theta grad. \n",
    "Observe que X grad deve ser uma matriz do mesmo tamanho que X e, de forma semelhante, Theta grad é uma matriz\n",
    "do mesmo tamanho que Theta."
   ]
  },
  {
   "cell_type": "code",
   "execution_count": 432,
   "metadata": {
    "collapsed": true
   },
   "outputs": [],
   "source": [
    "def cost(params, Y, R, num_features):\n",
    "    Y = np.matrix(Y)  # (1682, 943)\n",
    "    R = np.matrix(R)  # (1682, 943)\n",
    "    num_movies = Y.shape[0]\n",
    "    num_users = Y.shape[1]\n",
    "    \n",
    "    # reshape the parameter array into parameter matrices\n",
    "    X = np.matrix(np.reshape(params[:num_movies * num_features], (num_movies, num_features)))  # (1682, 10)\n",
    "    Theta = np.matrix(np.reshape(params[num_movies * num_features:], (num_users, num_features)))  # (943, 10)\n",
    "    \n",
    "    # initializations\n",
    "    J = 0\n",
    "    X_grad = np.zeros(X.shape)  # (1682, 10)\n",
    "    Theta_grad = np.zeros(Theta.shape)  # (943, 10)\n",
    "    \n",
    "    # compute the cost\n",
    "    error = np.multiply((X * Theta.T) - Y, R)  # (1682, 943)\n",
    "    squared_error = np.power(error, 2)  # (1682, 943)\n",
    "    J = (1. / 2) * np.sum(squared_error)\n",
    "    \n",
    "    # calculate the gradients\n",
    "    X_grad = error * Theta\n",
    "    Theta_grad = error.T * X\n",
    "    \n",
    "    # unravel the gradient matrices into a single array\n",
    "    grad = np.concatenate((np.ravel(X_grad), np.ravel(Theta_grad)))\n",
    "    \n",
    "    return J, grad"
   ]
  },
  {
   "cell_type": "code",
   "execution_count": 433,
   "metadata": {},
   "outputs": [
    {
     "name": "stdout",
     "output_type": "stream",
     "text": [
      "Valor do custo: 22.2246\n",
      "Valor do Gradiente:\n",
      "[ -2.52899165   7.57570308  -1.89979026  -0.56819597   3.35265031\n",
      "  -0.52339845  -0.83240713   4.91163297  -0.76677878  -0.38358278\n",
      "   2.26333698  -0.35334048  -0.80378006   4.74271842  -0.74040871\n",
      " -10.5680202    4.62776019  -7.16004443  -3.05099006   1.16441367\n",
      "  -3.47410789   0.           0.           0.           0.           0.           0.        ]\n"
     ]
    }
   ],
   "source": [
    "J, grad = cost(params, Y_sub, R_sub, features)\n",
    "print(\"Valor do custo: %.4f\" %J)\n",
    "print(\"Valor do Gradiente:\")\n",
    "print(grad)"
   ]
  },
  {
   "cell_type": "markdown",
   "metadata": {},
   "source": [
    "# Extra: Incluindo Regularização ao Custo e ao Gradiente"
   ]
  },
  {
   "cell_type": "markdown",
   "metadata": {},
   "source": [
    "Agora a implementação da função de Custo adicionará regularização tanto ao custo como ao cálculo de gradientes. "
   ]
  },
  {
   "cell_type": "code",
   "execution_count": 434,
   "metadata": {
    "collapsed": true
   },
   "outputs": [],
   "source": [
    "def cost(params, Y, R, num_features, learning_rate):\n",
    "    Y = np.matrix(Y)  # (1682, 943)\n",
    "    R = np.matrix(R)  # (1682, 943)\n",
    "    num_movies = Y.shape[0]\n",
    "    num_users = Y.shape[1]\n",
    "    \n",
    "    # reshape the parameter array into parameter matrices\n",
    "    X = np.matrix(np.reshape(params[:num_movies * num_features], (num_movies, num_features)))  # (1682, 10)\n",
    "    Theta = np.matrix(np.reshape(params[num_movies * num_features:], (num_users, num_features)))  # (943, 10)\n",
    "    \n",
    "    # initializations\n",
    "    J = 0\n",
    "    X_grad = np.zeros(X.shape)  # (1682, 10)\n",
    "    Theta_grad = np.zeros(Theta.shape)  # (943, 10)\n",
    "    \n",
    "    # compute the cost\n",
    "    error = np.multiply((X * Theta.T) - Y, R)  # (1682, 943)\n",
    "    squared_error = np.power(error, 2)  # (1682, 943)\n",
    "    J = (1. / 2) * np.sum(squared_error)\n",
    "    \n",
    "    # add the cost regularization\n",
    "    J = J + ((learning_rate / 2) * np.sum(np.power(Theta, 2)))\n",
    "    J = J + ((learning_rate / 2) * np.sum(np.power(X, 2)))\n",
    "    \n",
    "    # calculate the gradients with regularization\n",
    "    X_grad = (error * Theta) + (learning_rate * X)\n",
    "    Theta_grad = (error.T * X) + (learning_rate * Theta)\n",
    "    \n",
    "    # unravel the gradient matrices into a single array\n",
    "    grad = np.concatenate((np.ravel(X_grad), np.ravel(Theta_grad)))\n",
    "    \n",
    "    return J, grad"
   ]
  },
  {
   "cell_type": "code",
   "execution_count": 435,
   "metadata": {},
   "outputs": [
    {
     "data": {
      "text/plain": [
       "(31.344056244274221,\n",
       " array([ -0.95596339,   6.97535514,  -0.10861109,   0.60308088,\n",
       "          2.77421145,   0.25839822,   0.12985616,   4.0898522 ,\n",
       "         -0.89247334,   0.29684395,   1.06300933,   0.66738144,\n",
       "          0.60252677,   4.90185327,  -0.19747928, -10.13985478,\n",
       "          2.10136256,  -6.76563628,  -2.29347024,   0.48244098,\n",
       "         -2.99791422,  -0.64787484,  -0.71820673,   1.27006666,\n",
       "          1.09289758,  -0.40784086,   0.49026541]))"
      ]
     },
     "execution_count": 435,
     "metadata": {},
     "output_type": "execute_result"
    }
   ],
   "source": [
    "J, grad = cost(params, Y_sub, R_sub, features, 1.5)\n",
    "J, grad"
   ]
  },
  {
   "cell_type": "markdown",
   "metadata": {},
   "source": [
    "Antes de treinar o modelo, realizaremos um último teste. Utilizando classificações de filmes criadas, para que possamos usar o modelo para gerar recomendações personalizadas. Um arquivo é fornecido com dados que relacionam o índice do filme ao seu título."
   ]
  },
  {
   "cell_type": "code",
   "execution_count": 436,
   "metadata": {
    "collapsed": true
   },
   "outputs": [],
   "source": [
    "movie_idx = {}\n",
    "f = open('C:\\\\\\\\Users\\\\\\\\Raymundo\\\\\\\\Documents\\\\\\\\Franci\\\\\\\\MestradoCEFET\\\\\\\\7 Aprendizado de Máquina\\\\\\\\Trabalho 2\\\\\\\\movie_ids.txt')\n",
    "for line in f:\n",
    "    tokens = line.split(' ')\n",
    "    tokens[-1] = tokens[-1][:-1]\n",
    "    movie_idx[int(tokens[0]) - 1] = ' '.join(tokens[1:])"
   ]
  },
  {
   "cell_type": "code",
   "execution_count": 437,
   "metadata": {},
   "outputs": [
    {
     "name": "stdout",
     "output_type": "stream",
     "text": [
      "Toy Story (1995)\n",
      "GoldenEye (1995)\n",
      "Four Rooms (1995)\n",
      "Get Shorty (1995)\n",
      "Copycat (1995)\n"
     ]
    }
   ],
   "source": [
    "print(movie_idx[0])\n",
    "print(movie_idx[1])\n",
    "print(movie_idx[2])\n",
    "print(movie_idx[3])\n",
    "print(movie_idx[4])"
   ]
  },
  {
   "cell_type": "markdown",
   "metadata": {},
   "source": [
    "Serão usadas as avaliações fornecidas."
   ]
  },
  {
   "cell_type": "code",
   "execution_count": 438,
   "metadata": {},
   "outputs": [
    {
     "name": "stdout",
     "output_type": "stream",
     "text": [
      "Avaliado Toy Story (1995)       com 4 estrelas.\n",
      "Avaliado Twelve Monkeys (1995)       com 3 estrelas.\n",
      "Avaliado Usual Suspects, The (1995)       com 5 estrelas.\n",
      "Avaliado Outbreak (1995)       com 4 estrelas.\n",
      "Avaliado Shawshank Redemption, The (1994)       com 5 estrelas.\n",
      "Avaliado While You Were Sleeping (1995)       com 3 estrelas.\n",
      "Avaliado Forrest Gump (1994)       com 5 estrelas.\n",
      "Avaliado Silence of the Lambs, The (1991)       com 2 estrelas.\n",
      "Avaliado Alien (1979)       com 4 estrelas.\n",
      "Avaliado Die Hard 2 (1990)       com 5 estrelas.\n",
      "Avaliado Sphere (1998)       com 5 estrelas.\n"
     ]
    }
   ],
   "source": [
    "ratings = np.zeros((1682, 1))\n",
    "\n",
    "ratings[0] = 4\n",
    "ratings[6] = 3\n",
    "ratings[11] = 5\n",
    "ratings[53] = 4\n",
    "ratings[63] = 5\n",
    "ratings[65] = 3\n",
    "ratings[68] = 5\n",
    "ratings[97] = 2\n",
    "ratings[182] = 4\n",
    "ratings[225] = 5\n",
    "ratings[354] = 5\n",
    "\n",
    "print('Avaliado {0}       com {1} estrelas.'.format(movie_idx[0], str(int(ratings[0]))))\n",
    "print('Avaliado {0}       com {1} estrelas.'.format(movie_idx[6], str(int(ratings[6]))))\n",
    "print('Avaliado {0}       com {1} estrelas.'.format(movie_idx[11], str(int(ratings[11]))))\n",
    "print('Avaliado {0}       com {1} estrelas.'.format(movie_idx[53], str(int(ratings[53]))))\n",
    "print('Avaliado {0}       com {1} estrelas.'.format(movie_idx[63], str(int(ratings[63]))))\n",
    "print('Avaliado {0}       com {1} estrelas.'.format(movie_idx[65], str(int(ratings[65]))))\n",
    "print('Avaliado {0}       com {1} estrelas.'.format(movie_idx[68], str(int(ratings[68]))))\n",
    "print('Avaliado {0}       com {1} estrelas.'.format(movie_idx[97], str(int(ratings[97]))))\n",
    "print('Avaliado {0}       com {1} estrelas.'.format(movie_idx[182], str(int(ratings[182]))))\n",
    "print('Avaliado {0}       com {1} estrelas.'.format(movie_idx[225], str(int(ratings[225]))))\n",
    "print('Avaliado {0}       com {1} estrelas.'.format(movie_idx[354], str(int(ratings[354]))))"
   ]
  },
  {
   "cell_type": "markdown",
   "metadata": {},
   "source": [
    "\n",
    "Podemos adicionar nosso próprio vetor de classificações ao conjunto de dados existente para incluir no modelo."
   ]
  },
  {
   "cell_type": "code",
   "execution_count": 439,
   "metadata": {},
   "outputs": [
    {
     "data": {
      "text/plain": [
       "((1682, 944), (1682, 944), (1682, 1))"
      ]
     },
     "execution_count": 439,
     "metadata": {},
     "output_type": "execute_result"
    }
   ],
   "source": [
    "R = data['R']\n",
    "Y = data['Y']\n",
    "\n",
    "Y = np.append(Y, ratings, axis=1)\n",
    "R = np.append(R, ratings != 0, axis=1)\n",
    "\n",
    "Y.shape, R.shape, ratings.shape"
   ]
  },
  {
   "cell_type": "markdown",
   "metadata": {},
   "source": [
    "Antes de treinar o modelo de filtragem colaborativa, precisamos definir algumas variáveis ​​e normalizar as classificações."
   ]
  },
  {
   "cell_type": "code",
   "execution_count": 440,
   "metadata": {},
   "outputs": [
    {
     "data": {
      "text/plain": [
       "((1682, 10), (944, 10), (26260,))"
      ]
     },
     "execution_count": 440,
     "metadata": {},
     "output_type": "execute_result"
    }
   ],
   "source": [
    "movies = Y.shape[0]  # 1682\n",
    "users = Y.shape[1]  # 944\n",
    "features = 10\n",
    "learning_rate = 10.\n",
    "\n",
    "X = np.random.random(size=(movies, features))\n",
    "Theta = np.random.random(size=(users, features))\n",
    "params = np.concatenate((np.ravel(X), np.ravel(Theta)))\n",
    "\n",
    "X.shape, Theta.shape, params.shape"
   ]
  },
  {
   "cell_type": "code",
   "execution_count": 441,
   "metadata": {},
   "outputs": [
    {
     "data": {
      "text/plain": [
       "5.5070364565159845e-19"
      ]
     },
     "execution_count": 441,
     "metadata": {},
     "output_type": "execute_result"
    }
   ],
   "source": [
    "Ymean = np.zeros((movies, 1))\n",
    "Ynorm = np.zeros((movies, users))\n",
    "\n",
    "for i in range(movies):\n",
    "    idx = np.where(R[i,:] == 1)[0]\n",
    "    Ymean[i] = Y[i,idx].mean()\n",
    "    Ynorm[i,idx] = Y[i,idx] - Ymean[i]\n",
    "\n",
    "Ynorm.mean()"
   ]
  },
  {
   "cell_type": "code",
   "execution_count": 442,
   "metadata": {},
   "outputs": [
    {
     "data": {
      "text/plain": [
       "     fun: 38985.81690371395\n",
       "     jac: array([ 0.18089143,  0.1473266 ,  0.2928937 , ..., -0.00277383,\n",
       "        0.00306087, -0.00158266])\n",
       " message: 'Maximum number of iterations has been exceeded.'\n",
       "    nfev: 148\n",
       "     nit: 100\n",
       "    njev: 148\n",
       "  status: 1\n",
       " success: False\n",
       "       x: array([ 0.01977919,  0.76759398,  0.7919232 , ...,  0.18618543,\n",
       "        0.04580681,  0.06950694])"
      ]
     },
     "execution_count": 442,
     "metadata": {},
     "output_type": "execute_result"
    }
   ],
   "source": [
    "from scipy.optimize import minimize\n",
    "\n",
    "fmin = minimize(fun=cost, x0=params, args=(Ynorm, R, features, learning_rate), \n",
    "                method='CG', jac=True, options={'maxiter': 100})\n",
    "fmin"
   ]
  },
  {
   "cell_type": "code",
   "execution_count": 443,
   "metadata": {},
   "outputs": [
    {
     "data": {
      "text/plain": [
       "((1682, 10), (944, 10))"
      ]
     },
     "execution_count": 443,
     "metadata": {},
     "output_type": "execute_result"
    }
   ],
   "source": [
    "X = np.matrix(np.reshape(fmin.x[:movies * features], (movies, features)))\n",
    "Theta = np.matrix(np.reshape(fmin.x[movies * features:], (users, features)))\n",
    "\n",
    "X.shape, Theta.shape"
   ]
  },
  {
   "cell_type": "code",
   "execution_count": 444,
   "metadata": {},
   "outputs": [
    {
     "data": {
      "text/plain": [
       "(1682, 1)"
      ]
     },
     "execution_count": 444,
     "metadata": {},
     "output_type": "execute_result"
    }
   ],
   "source": [
    "predictions = X * Theta.T \n",
    "my_preds = predictions[:, -1] + Ymean\n",
    "my_preds.shape"
   ]
  },
  {
   "cell_type": "code",
   "execution_count": 445,
   "metadata": {},
   "outputs": [
    {
     "data": {
      "text/plain": [
       "matrix([[ 5.00000292],\n",
       "        [ 5.00000044],\n",
       "        [ 4.99999841],\n",
       "        [ 4.99999788],\n",
       "        [ 4.99999668],\n",
       "        [ 4.99999601],\n",
       "        [ 4.99999557],\n",
       "        [ 4.99999509],\n",
       "        [ 4.99999317],\n",
       "        [ 4.99999023]])"
      ]
     },
     "execution_count": 445,
     "metadata": {},
     "output_type": "execute_result"
    }
   ],
   "source": [
    "sorted_preds = np.sort(my_preds, axis=0)[::-1]\n",
    "sorted_preds[:10]"
   ]
  },
  {
   "cell_type": "markdown",
   "metadata": {},
   "source": [
    "Isso nos dá uma lista ordenada das melhores classificações, mas perdemos o índice para o qual essas classificações são feitas. Na verdade, precisamos usar o argsort para que possamos saber em que filme corresponde a classificação prevista."
   ]
  },
  {
   "cell_type": "code",
   "execution_count": 446,
   "metadata": {},
   "outputs": [
    {
     "data": {
      "text/plain": [
       "matrix([[1292],\n",
       "        [1188],\n",
       "        [ 813],\n",
       "        ..., \n",
       "        [1670],\n",
       "        [1677],\n",
       "        [ 313]], dtype=int64)"
      ]
     },
     "execution_count": 446,
     "metadata": {},
     "output_type": "execute_result"
    }
   ],
   "source": [
    "idx = np.argsort(my_preds, axis=0)[::-1]\n",
    "idx"
   ]
  },
  {
   "cell_type": "code",
   "execution_count": 447,
   "metadata": {},
   "outputs": [
    {
     "name": "stdout",
     "output_type": "stream",
     "text": [
      "Predições dos filmes top 10:\n",
      "Avaliação predita de 5.0000029200402505 para o filme Star Kid (1997).\n",
      "Avaliação predita de 5.000000435807627 para o filme Prefontaine (1997).\n",
      "Avaliação predita de 4.999998412673749 para o filme Great Day in Harlem, A (1994).\n",
      "Avaliação predita de 4.999997878724331 para o filme Marlene Dietrich: Shadow and Light (1996) .\n",
      "Avaliação predita de 4.999996684970989 para o filme Santa with Muscles (1996).\n",
      "Avaliação predita de 4.999996013460421 para o filme Entertaining Angels: The Dorothy Day Story (1996).\n",
      "Avaliação predita de 4.99999556627312 para o filme Saint of Fort Washington, The (1993).\n",
      "Avaliação predita de 4.999995087728949 para o filme They Made Me a Criminal (1939).\n",
      "Avaliação predita de 4.999993174270982 para o filme Someone Else's America (1995).\n",
      "Avaliação predita de 4.999990230197205 para o filme Aiqing wansui (1994).\n"
     ]
    }
   ],
   "source": [
    "print(\"Predições dos filmes top 10:\")\n",
    "for i in range(10):\n",
    "    j = int(idx[i])\n",
    "    print('Avaliação predita de {0} para o filme {1}.'.format(str(float(my_preds[j])), movie_idx[j]))"
   ]
  },
  {
   "cell_type": "markdown",
   "metadata": {
    "collapsed": true
   },
   "source": [
    "# Os arquivos e todo o conteúdo deste trabalho estão armazenados em: https://github.com/Francimary/Aprendizado-de-M-quina"
   ]
  }
 ],
 "metadata": {
  "kernelspec": {
   "display_name": "Python 3",
   "language": "python",
   "name": "python3"
  },
  "language_info": {
   "codemirror_mode": {
    "name": "ipython",
    "version": 3
   },
   "file_extension": ".py",
   "mimetype": "text/x-python",
   "name": "python",
   "nbconvert_exporter": "python",
   "pygments_lexer": "ipython3",
   "version": "3.6.1"
  }
 },
 "nbformat": 4,
 "nbformat_minor": 2
}
