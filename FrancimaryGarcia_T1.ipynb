{
 "cells": [
  {
   "cell_type": "markdown",
   "metadata": {},
   "source": [
    "# O presente trabalho faz parte da avaliação da disciplina Aprendizado de Máquina, constante da ementa do curso de mestrado em ciência da computação, oferecida pelo CEFET-Rj.\n",
    "Professor: Eduardo Bezerra\n",
    "\n",
    "Aluna: Francimary Garcia\n",
    "\n",
    "Entrega: 02/10/2017"
   ]
  },
  {
   "cell_type": "markdown",
   "metadata": {},
   "source": [
    "# Exercício 1 - Regressão Linear com uma Variável"
   ]
  },
  {
   "cell_type": "markdown",
   "metadata": {},
   "source": [
    "Implementar regressão linear para predizer o lucro para uma cadeia de food trucks. \n",
    "Essa cadeia já possui diversas ﬁliais em diferentes cidades. São fornecidos : População e Lucro para cada uma das cidades. "
   ]
  },
  {
   "cell_type": "code",
   "execution_count": 66,
   "metadata": {
    "collapsed": true
   },
   "outputs": [],
   "source": [
    "import matplotlib.pyplot as plt\n",
    "import numpy as np\n",
    "from sklearn import linear_model\n",
    "import csv\n",
    "import pandas as pd\n",
    "import matplotlib.pyplot as plt\n",
    "from mpl_toolkits.mplot3d import Axes3D\n",
    "import pylab as pl\n",
    "import os  \n",
    "%matplotlib inline\n"
   ]
  },
  {
   "cell_type": "markdown",
   "metadata": {},
   "source": [
    "Lendo arquivo fornecido com os valores de tamanho da população e lucro relacionado: ex1data1.txt"
   ]
  },
  {
   "cell_type": "code",
   "execution_count": 26,
   "metadata": {},
   "outputs": [
    {
     "data": {
      "text/html": [
       "<div>\n",
       "<style>\n",
       "    .dataframe thead tr:only-child th {\n",
       "        text-align: right;\n",
       "    }\n",
       "\n",
       "    .dataframe thead th {\n",
       "        text-align: left;\n",
       "    }\n",
       "\n",
       "    .dataframe tbody tr th {\n",
       "        vertical-align: top;\n",
       "    }\n",
       "</style>\n",
       "<table border=\"1\" class=\"dataframe\">\n",
       "  <thead>\n",
       "    <tr style=\"text-align: right;\">\n",
       "      <th></th>\n",
       "      <th>Pop</th>\n",
       "      <th>Lucro</th>\n",
       "    </tr>\n",
       "  </thead>\n",
       "  <tbody>\n",
       "    <tr>\n",
       "      <th>0</th>\n",
       "      <td>6.1101</td>\n",
       "      <td>17.5920</td>\n",
       "    </tr>\n",
       "    <tr>\n",
       "      <th>1</th>\n",
       "      <td>5.5277</td>\n",
       "      <td>9.1302</td>\n",
       "    </tr>\n",
       "    <tr>\n",
       "      <th>2</th>\n",
       "      <td>8.5186</td>\n",
       "      <td>13.6620</td>\n",
       "    </tr>\n",
       "    <tr>\n",
       "      <th>3</th>\n",
       "      <td>7.0032</td>\n",
       "      <td>11.8540</td>\n",
       "    </tr>\n",
       "    <tr>\n",
       "      <th>4</th>\n",
       "      <td>5.8598</td>\n",
       "      <td>6.8233</td>\n",
       "    </tr>\n",
       "  </tbody>\n",
       "</table>\n",
       "</div>"
      ],
      "text/plain": [
       "      Pop    Lucro\n",
       "0  6.1101  17.5920\n",
       "1  5.5277   9.1302\n",
       "2  8.5186  13.6620\n",
       "3  7.0032  11.8540\n",
       "4  5.8598   6.8233"
      ]
     },
     "execution_count": 26,
     "metadata": {},
     "output_type": "execute_result"
    }
   ],
   "source": [
    "arquivo = 'C:\\\\\\\\Users\\\\\\\\Raymundo\\\\\\\\Documents\\\\\\\\Franci\\\\\\\\MestradoCEFET\\\\\\\\7 Aprendizado de Máquina\\\\\\\\ex1data1.txt'\n",
    "\n",
    "ficheiro = open(arquivo, \"r\")\n",
    "\n",
    "dados = pd.read_csv(ficheiro, names = ['Pop', 'Lucro'])\n",
    "\n",
    "dados.head()"
   ]
  },
  {
   "cell_type": "markdown",
   "metadata": {},
   "source": [
    "# 1.1 - Plotando gráfico de dispersão para análise das informações fornecidas."
   ]
  },
  {
   "cell_type": "code",
   "execution_count": 27,
   "metadata": {},
   "outputs": [
    {
     "data": {
      "image/png": "[encoded data removed]",
      "text/plain": [
       "<matplotlib.figure.Figure at 0x248e2e1c358>"
      ]
     },
     "metadata": {},
     "output_type": "display_data"
    }
   ],
   "source": [
    "scatter_plot = plt.scatter(dados['Pop'], dados['Lucro'], alpha=0.5, \n",
    "                           c=dados['Lucro'])\n",
    "\n",
    "plt.xlabel('População')\n",
    "plt.ylabel('Lucro')\n",
    "plt.show()\n"
   ]
  },
  {
   "cell_type": "markdown",
   "metadata": {},
   "source": [
    "Podemos observar através do gráfico de dispersão acima, que existe um agrupamento relevante de food trucks em cidades com população pequena, além disso, observamos uma tendência de aumento dos lucros em cenários com populações maiores.\n"
   ]
  },
  {
   "cell_type": "markdown",
   "metadata": {
    "collapsed": true
   },
   "source": [
    "A função computarCusto é implementada utilizando a fórmula: 1/2m ∑(i=1)^m(hθ(x^((i))  )-y^((i)) )^2.\n",
    "\n",
    "Esta função demonstra a qualidado do modelo utilizado através do erro ocorrido nas predições realizadas. \n",
    "O erro é calculado entre as predições realizadas pelo modelo e os pontos de dados conhecidos. \n",
    "O somatório de todos os erros parcias representa o erro total do modelo de predição."
   ]
  },
  {
   "cell_type": "code",
   "execution_count": 28,
   "metadata": {
    "collapsed": true
   },
   "outputs": [],
   "source": [
    "def computarCusto(X, y, theta):\n",
    "    inner = np.power(((X * theta.T) - y), 2)\n",
    "    return np.sum(inner) / (2 * len(X))\n",
    "    "
   ]
  },
  {
   "cell_type": "markdown",
   "metadata": {
    "collapsed": true
   },
   "source": [
    "A coluna de treinamento (População) é setada para a variável X, enquanto que a coluna target (lucro) é setada para a variável y.\n",
    "\n",
    "X e y são transformadas em matrizes e a variável theta é inicializada com um vetor de zeros."
   ]
  },
  {
   "cell_type": "code",
   "execution_count": 29,
   "metadata": {
    "collapsed": true
   },
   "outputs": [],
   "source": [
    "dados.insert(0, 'Ones', 1)\n",
    "\n",
    "# set X (training data) and y (target variable)\n",
    "cols = dados.shape[1]\n",
    "X = dados.iloc[:,0:cols-1]\n",
    "y = dados.iloc[:,cols-1:cols]\n",
    "\n",
    "X = np.matrix(X.values)\n",
    "y = np.matrix(y.values)\n",
    "theta = np.matrix(np.array([0,0]))\n"
   ]
  },
  {
   "cell_type": "markdown",
   "metadata": {
    "collapsed": true
   },
   "source": [
    "Testando o funcionamento da função computarCusto, usando o valor de theta ainda zerado."
   ]
  },
  {
   "cell_type": "code",
   "execution_count": 30,
   "metadata": {},
   "outputs": [
    {
     "name": "stdout",
     "output_type": "stream",
     "text": [
      "O erro para o modelo com theta igual a zero é: 32.0727\n"
     ]
    }
   ],
   "source": [
    "\n",
    "print(\"O erro para o modelo com theta igual a zero é: %.4f\" %computarCusto(X, y, theta))\n"
   ]
  },
  {
   "cell_type": "markdown",
   "metadata": {},
   "source": [
    "Implementação da técnica de otimização chamada Gradiente Descendente, para encontrar o parâmetro Theta.\n",
    "\n",
    "Para cada iteração, será calculado o gradiente do erro para que seja identificada a direção apropriada para a movimentação do vetor, reduzindo desta forma o erro e fazendo a solução mais próxima da solução ótima.\n"
   ]
  },
  {
   "cell_type": "code",
   "execution_count": 31,
   "metadata": {
    "collapsed": true
   },
   "outputs": [],
   "source": [
    "def gradienteDescente(X, y, theta, alpha, iters):\n",
    "    temp = np.matrix(np.zeros(theta.shape))\n",
    "    parameters = int(theta.ravel().shape[1])\n",
    "    cost = np.zeros(iters)\n",
    "    \n",
    "    for i in range(iters):\n",
    "        error = (X * theta.T) - y\n",
    "        \n",
    "        for j in range(parameters):\n",
    "            term = np.multiply(error, X[:,j])\n",
    "            temp[0,j] = theta[0,j] - ((alpha / len(X)) * np.sum(term))\n",
    "            \n",
    "        theta = temp\n",
    "        cost[i] = computarCusto(X, y, theta)\n",
    "        \n",
    "    return theta, cost\n",
    "\n"
   ]
  },
  {
   "cell_type": "markdown",
   "metadata": {},
   "source": [
    "Inicializando taxa de aprendizado alpha e número de iterações."
   ]
  },
  {
   "cell_type": "code",
   "execution_count": 32,
   "metadata": {
    "collapsed": true
   },
   "outputs": [],
   "source": [
    "alpha = 0.01\n",
    "iters = 1500"
   ]
  },
  {
   "cell_type": "code",
   "execution_count": 33,
   "metadata": {},
   "outputs": [
    {
     "name": "stdout",
     "output_type": "stream",
     "text": [
      "Abaixo os valores de Theta e Custo que representam o modelo linear ótimo para o conjunto de dados em análise:\n"
     ]
    },
    {
     "data": {
      "text/plain": [
       "matrix([[-3.63029144,  1.16636235]])"
      ]
     },
     "execution_count": 33,
     "metadata": {},
     "output_type": "execute_result"
    }
   ],
   "source": [
    "[theta, a] = gradienteDescente(X, y, theta, alpha, iters)\n",
    "print(\"Abaixo os valores de Theta e Custo que representam o modelo linear ótimo para o conjunto de dados em análise:\")\n",
    "theta"
   ]
  },
  {
   "cell_type": "markdown",
   "metadata": {},
   "source": [
    "O custo com os parâmetros ótimos encontrados pelo gradiente descendente é calculado."
   ]
  },
  {
   "cell_type": "code",
   "execution_count": 34,
   "metadata": {},
   "outputs": [
    {
     "name": "stdout",
     "output_type": "stream",
     "text": [
      "O erro para o modelo com o valor de theta fornecido pelo gradiente é: 4.4834\n"
     ]
    }
   ],
   "source": [
    "print(\"O erro para o modelo com o valor de theta fornecido pelo gradiente é: %.4f\" %computarCusto(X, y, theta))"
   ]
  },
  {
   "cell_type": "markdown",
   "metadata": {},
   "source": [
    "Podemos verificar acima que houve uma melhora significante no valor do erro do modelo usado, após a aplicação dos parâmetros ótimos, passando de 32.0727 para 4.4770.\n",
    "\n"
   ]
  },
  {
   "cell_type": "markdown",
   "metadata": {},
   "source": [
    "# 1.2 - Com o objetivo de avaliarmos se as predições realizadas pelo modelo de regressão linear estão conformes com os dados conhecidos, vamos plotar a linha de regressão.\n",
    "Além disso, serão calculados os lucros para populaçoes de 35 e 70 mil habitantes."
   ]
  },
  {
   "cell_type": "code",
   "execution_count": 35,
   "metadata": {},
   "outputs": [
    {
     "data": {
      "text/plain": [
       "<matplotlib.text.Text at 0x248e2e58358>"
      ]
     },
     "execution_count": 35,
     "metadata": {},
     "output_type": "execute_result"
    },
    {
     "data": {
      "image/png": "[encoded data removed]",
      "text/plain": [
       "<matplotlib.figure.Figure at 0x248e2e299b0>"
      ]
     },
     "metadata": {},
     "output_type": "display_data"
    }
   ],
   "source": [
    "x = np.linspace(dados.Pop.min(), dados.Pop.max(), 100)\n",
    "f = theta[0, 0] + (theta[0, 1] * x)\n",
    "\n",
    "\n",
    "fig, ax = plt.subplots(figsize=(12,8))\n",
    "ax.plot(x, f, 'r', label='Predição')\n",
    "\n",
    "scatter_plot = plt.scatter(dados['Pop'], dados['Lucro'], alpha=0.5, \n",
    "                          c=dados['Lucro'],label='Dados de Treinamento' )\n",
    "ax.scatter(dados.Pop, dados.Lucro, label='Dados de Treinamento')\n",
    "ax.legend(loc=2)\n",
    "ax.set_xlabel('População')\n",
    "ax.set_ylabel('Lucro')\n",
    "ax.set_title('Valor predito Lucro X Tamanho Populacional')"
   ]
  },
  {
   "cell_type": "markdown",
   "metadata": {},
   "source": [
    "Como mostrado acima a linha de predição encontrada pelo gradiente obteve uma adpatação bem próxima à tendência dos dados conhecidos. "
   ]
  },
  {
   "cell_type": "markdown",
   "metadata": {},
   "source": [
    "Com os parâmetros obtidos para o modelo ótimo, devemos agora predizer qual o lucro da cadeia de food trucks em cidades com 35 e 70 mil habitantes."
   ]
  },
  {
   "cell_type": "code",
   "execution_count": 36,
   "metadata": {},
   "outputs": [
    {
     "name": "stdout",
     "output_type": "stream",
     "text": [
      "Para população de 35,000 habitantes, predizemos um lucro de: $ 4519.77\n",
      "Para população de 70,000 habitantes, predizemos um lucro de $ 45342.45\n"
     ]
    }
   ],
   "source": [
    "predict1 = np.dot(np.array([1, 3.5]), np.squeeze(np.asarray(theta))*10000)\n",
    "print(\"Para população de 35,000 habitantes, predizemos um lucro de: $ %.2f\" %predict1)\n",
    "predict2 = np.dot(np.array([1, 7]), np.squeeze(np.asarray(theta))*10000)\n",
    "print (\"Para população de 70,000 habitantes, predizemos um lucro de $ %.2f\" %predict2)"
   ]
  },
  {
   "cell_type": "markdown",
   "metadata": {},
   "source": [
    "# 1.3 - Podemos mostrar a tendência de redução do custo a cada iteração, plotando o gráfico abaixo:"
   ]
  },
  {
   "cell_type": "code",
   "execution_count": 37,
   "metadata": {},
   "outputs": [
    {
     "data": {
      "text/plain": [
       "<matplotlib.text.Text at 0x248e30c6668>"
      ]
     },
     "execution_count": 37,
     "metadata": {},
     "output_type": "execute_result"
    },
    {
     "data": {
      "image/png": "[encoded data removed]",
      "text/plain": [
       "<matplotlib.figure.Figure at 0x248e29b2630>"
      ]
     },
     "metadata": {},
     "output_type": "display_data"
    }
   ],
   "source": [
    "fig, ax = plt.subplots(figsize=(12,8))\n",
    "\n",
    "ax.plot(np.arange(iters), a, 'r')\n",
    "ax.set_xlabel('Iterações')\n",
    "ax.set_ylabel('Custo')\n",
    "ax.set_title('Erro vs. Tempo de Treinamento')"
   ]
  },
  {
   "cell_type": "markdown",
   "metadata": {},
   "source": [
    "Como visto acima, o custo sempre decresce, representando a eficiência do modelo de otimização."
   ]
  },
  {
   "cell_type": "code",
   "execution_count": 38,
   "metadata": {},
   "outputs": [
    {
     "name": "stdout",
     "output_type": "stream",
     "text": [
      "2000\n",
      "[[ 4.48338826  4.48338826  4.48338826 ...,  4.48338826  4.48338826\n",
      "   4.48338826]\n",
      " [ 4.48338826  4.48338826  4.48338826 ...,  4.48338826  4.48338826\n",
      "   4.48338826]\n",
      " [ 4.48338826  4.48338826  4.48338826 ...,  4.48338826  4.48338826\n",
      "   4.48338826]\n",
      " ..., \n",
      " [ 4.48338826  4.48338826  4.48338826 ...,  4.48338826  4.48338826\n",
      "   4.48338826]\n",
      " [ 4.48338826  4.48338826  4.48338826 ...,  4.48338826  4.48338826\n",
      "   4.48338826]\n",
      " [ 4.48338826  4.48338826  4.48338826 ...,  4.48338826  4.48338826\n",
      "   4.48338826]]\n"
     ]
    },
    {
     "data": {
      "text/plain": [
       "<matplotlib.figure.Figure at 0x248e2dea828>"
      ]
     },
     "execution_count": 38,
     "metadata": {},
     "output_type": "execute_result"
    },
    {
     "data": {
      "text/plain": [
       "<matplotlib.figure.Figure at 0x248e2dea828>"
      ]
     },
     "metadata": {},
     "output_type": "display_data"
    }
   ],
   "source": [
    "\n",
    "\n",
    "theta0_vals = np.arange(-10, 10, 0.01)\n",
    "theta1_vals = np.arange(-1, 4, 0.01)\n",
    "\n",
    "\n",
    "J_vals = np.zeros([theta0_vals.size, theta1_vals.size])\n",
    "\n",
    "print(len(theta0_vals))\n",
    "\n",
    "for i in range(len(theta0_vals)):\n",
    "    for j in range(len(theta1_vals)):\n",
    "        t = np.asarray([[theta0_vals[i]], [theta1_vals[j]]])\n",
    "        J_vals[i,j] = computarCusto(X,y,theta)\n",
    "       \n",
    "\n",
    "J_vals = J_vals.transpose()\n",
    "print(J_vals)\n",
    "plt.figure()\n",
    "\n",
    "# surf(theta0_vals, theta1_vals, J_vals)\n",
    "# xlabel('\\theta_0'); ylabel('\\theta_1');\n",
    "\n",
    "# % Contour plot\n",
    "# figure;\n",
    "# % Plot J_vals as 15 contours spaced logarithmically between 0.01 and 100\n",
    "# contour(theta0_vals, theta1_vals, J_vals, logspace(-2, 3, 20))\n",
    "# xlabel('\\theta_0'); ylabel('\\theta_1');\n",
    "# hold on;\n",
    "# plot(theta(1), theta(2), 'rx', 'MarkerSize', 10, 'LineWidth', 2);"
   ]
  },
  {
   "cell_type": "markdown",
   "metadata": {
    "collapsed": true
   },
   "source": [
    "# Exercício 2 - Regressão Linear com Múltiplas Variáveis"
   ]
  },
  {
   "cell_type": "markdown",
   "metadata": {
    "collapsed": true
   },
   "source": [
    "Neste exercício foi fornecido um arquivo de entrada, com informações sobre valores de venda de imóveis: Área da propriedade(pés quadrados), número de quartos e preço do imóvel. O objetivo neste momento é realizar a normalização dos valores fornecidos e implementar as funções de Computar Custo e Gradiente Descendente para o cenário de múltiplas variáveis.\n"
   ]
  },
  {
   "cell_type": "markdown",
   "metadata": {
    "collapsed": true
   },
   "source": [
    "Inicialização da taxa de aprendizado alpha e número de iterações."
   ]
  },
  {
   "cell_type": "code",
   "execution_count": 39,
   "metadata": {
    "collapsed": true
   },
   "outputs": [],
   "source": [
    "alpha = 0.01\n",
    "iters = 1500"
   ]
  },
  {
   "cell_type": "markdown",
   "metadata": {
    "collapsed": true
   },
   "source": [
    "Leitura do arquivo de dados fornecido."
   ]
  },
  {
   "cell_type": "code",
   "execution_count": 40,
   "metadata": {},
   "outputs": [
    {
     "data": {
      "text/html": [
       "<div>\n",
       "<style>\n",
       "    .dataframe thead tr:only-child th {\n",
       "        text-align: right;\n",
       "    }\n",
       "\n",
       "    .dataframe thead th {\n",
       "        text-align: left;\n",
       "    }\n",
       "\n",
       "    .dataframe tbody tr th {\n",
       "        vertical-align: top;\n",
       "    }\n",
       "</style>\n",
       "<table border=\"1\" class=\"dataframe\">\n",
       "  <thead>\n",
       "    <tr style=\"text-align: right;\">\n",
       "      <th></th>\n",
       "      <th>Área</th>\n",
       "      <th>Dormitórios</th>\n",
       "      <th>Preço</th>\n",
       "    </tr>\n",
       "  </thead>\n",
       "  <tbody>\n",
       "    <tr>\n",
       "      <th>0</th>\n",
       "      <td>2104</td>\n",
       "      <td>3</td>\n",
       "      <td>399900</td>\n",
       "    </tr>\n",
       "    <tr>\n",
       "      <th>1</th>\n",
       "      <td>1600</td>\n",
       "      <td>3</td>\n",
       "      <td>329900</td>\n",
       "    </tr>\n",
       "    <tr>\n",
       "      <th>2</th>\n",
       "      <td>2400</td>\n",
       "      <td>3</td>\n",
       "      <td>369000</td>\n",
       "    </tr>\n",
       "    <tr>\n",
       "      <th>3</th>\n",
       "      <td>1416</td>\n",
       "      <td>2</td>\n",
       "      <td>232000</td>\n",
       "    </tr>\n",
       "    <tr>\n",
       "      <th>4</th>\n",
       "      <td>3000</td>\n",
       "      <td>4</td>\n",
       "      <td>539900</td>\n",
       "    </tr>\n",
       "  </tbody>\n",
       "</table>\n",
       "</div>"
      ],
      "text/plain": [
       "   Área  Dormitórios   Preço\n",
       "0  2104            3  399900\n",
       "1  1600            3  329900\n",
       "2  2400            3  369000\n",
       "3  1416            2  232000\n",
       "4  3000            4  539900"
      ]
     },
     "execution_count": 40,
     "metadata": {},
     "output_type": "execute_result"
    }
   ],
   "source": [
    "arquivo = 'C:\\\\\\\\Users\\\\\\\\Raymundo\\\\\\\\Documents\\\\\\\\Franci\\\\\\\\MestradoCEFET\\\\\\\\7 Aprendizado de Máquina\\\\\\\\ex1data2.txt'\n",
    "\n",
    "ficheiro = open(arquivo, \"r\")\n",
    "\n",
    "dados2 = pd.read_csv(ficheiro, names = ['Área', 'Dormitórios', 'Preço'])\n",
    "dados2.head()"
   ]
  },
  {
   "cell_type": "markdown",
   "metadata": {
    "collapsed": true
   },
   "source": [
    "# 2.1 - Implementação da normalização dos dados"
   ]
  },
  {
   "cell_type": "markdown",
   "metadata": {
    "collapsed": true
   },
   "source": [
    "Implementação da normalização dos dados, necessária devido à característica extremamente diversa das grandezas dos valores fornecidos, onde a grandeza do atributo área representaria (se não normalizado) um peso consideravelmente maior na regressão linear executada, que o atributo de número de dormitórios."
   ]
  },
  {
   "cell_type": "code",
   "execution_count": 41,
   "metadata": {},
   "outputs": [
    {
     "data": {
      "text/html": [
       "<div>\n",
       "<style>\n",
       "    .dataframe thead tr:only-child th {\n",
       "        text-align: right;\n",
       "    }\n",
       "\n",
       "    .dataframe thead th {\n",
       "        text-align: left;\n",
       "    }\n",
       "\n",
       "    .dataframe tbody tr th {\n",
       "        vertical-align: top;\n",
       "    }\n",
       "</style>\n",
       "<table border=\"1\" class=\"dataframe\">\n",
       "  <thead>\n",
       "    <tr style=\"text-align: right;\">\n",
       "      <th></th>\n",
       "      <th>Área</th>\n",
       "      <th>Dormitórios</th>\n",
       "      <th>Preço</th>\n",
       "    </tr>\n",
       "  </thead>\n",
       "  <tbody>\n",
       "    <tr>\n",
       "      <th>0</th>\n",
       "      <td>0.130010</td>\n",
       "      <td>-0.223675</td>\n",
       "      <td>0.475747</td>\n",
       "    </tr>\n",
       "    <tr>\n",
       "      <th>1</th>\n",
       "      <td>-0.504190</td>\n",
       "      <td>-0.223675</td>\n",
       "      <td>-0.084074</td>\n",
       "    </tr>\n",
       "    <tr>\n",
       "      <th>2</th>\n",
       "      <td>0.502476</td>\n",
       "      <td>-0.223675</td>\n",
       "      <td>0.228626</td>\n",
       "    </tr>\n",
       "    <tr>\n",
       "      <th>3</th>\n",
       "      <td>-0.735723</td>\n",
       "      <td>-1.537767</td>\n",
       "      <td>-0.867025</td>\n",
       "    </tr>\n",
       "    <tr>\n",
       "      <th>4</th>\n",
       "      <td>1.257476</td>\n",
       "      <td>1.090417</td>\n",
       "      <td>1.595389</td>\n",
       "    </tr>\n",
       "  </tbody>\n",
       "</table>\n",
       "</div>"
      ],
      "text/plain": [
       "       Área  Dormitórios     Preço\n",
       "0  0.130010    -0.223675  0.475747\n",
       "1 -0.504190    -0.223675 -0.084074\n",
       "2  0.502476    -0.223675  0.228626\n",
       "3 -0.735723    -1.537767 -0.867025\n",
       "4  1.257476     1.090417  1.595389"
      ]
     },
     "execution_count": 41,
     "metadata": {},
     "output_type": "execute_result"
    }
   ],
   "source": [
    "dados2 = (dados2 - dados2.mean()) / dados2.std()\n",
    "dados2.head()"
   ]
  },
  {
   "cell_type": "markdown",
   "metadata": {
    "collapsed": true
   },
   "source": [
    "Aqui as colunas para os dados de treinamento são armazenadas na variável X2 e os valores target inseridos na variável y2. As duas variáveis são transformadas em matrizes e a variável theta2 inicializada com um vetor de zeros."
   ]
  },
  {
   "cell_type": "code",
   "execution_count": 42,
   "metadata": {
    "collapsed": true
   },
   "outputs": [],
   "source": [
    "# add ones column\n",
    "dados2.insert(0, 'Ones', 1)\n",
    "\n",
    "# set X (training data) and y (target variable)\n",
    "cols = dados2.shape[1]\n",
    "X2 = dados2.iloc[:,0:cols-1]\n",
    "y2 = dados2.iloc[:,cols-1:cols]\n",
    "\n",
    "# convert to matrices and initialize theta\n",
    "X2 = np.matrix(X2.values)\n",
    "y2 = np.matrix(y2.values)\n",
    "theta2 = np.matrix(np.array([0,0,0]))"
   ]
  },
  {
   "cell_type": "markdown",
   "metadata": {},
   "source": [
    "As funções gradienteDescente e computarCusto são executadas e o valor do erro encontrado."
   ]
  },
  {
   "cell_type": "code",
   "execution_count": 43,
   "metadata": {},
   "outputs": [
    {
     "name": "stdout",
     "output_type": "stream",
     "text": [
      "O valor do custo do erro do modelo implementado é: 0.1307\n"
     ]
    }
   ],
   "source": [
    "# perform linear regression on the data set\n",
    "theta, custo2 = gradienteDescente(X2, y2, theta2, alpha, iters)\n",
    "\n",
    "# get the cost (error) of the model\n",
    "print(\"O valor do custo do erro do modelo implementado é: %.4f\" %computarCusto(X2, y2, theta))"
   ]
  },
  {
   "cell_type": "markdown",
   "metadata": {},
   "source": [
    "Abaixo o gráfico do treinamento mostra que o valor do custo do erro do modelo decresce com as sucessivas iterações."
   ]
  },
  {
   "cell_type": "code",
   "execution_count": 44,
   "metadata": {},
   "outputs": [
    {
     "data": {
      "text/plain": [
       "<matplotlib.text.Text at 0x248e316c1d0>"
      ]
     },
     "execution_count": 44,
     "metadata": {},
     "output_type": "execute_result"
    },
    {
     "data": {
      "image/png": "[encoded data removed]",
      "text/plain": [
       "<matplotlib.figure.Figure at 0x248e2deaa20>"
      ]
     },
     "metadata": {},
     "output_type": "display_data"
    }
   ],
   "source": [
    "fig, ax = plt.subplots(figsize=(12,8))\n",
    "ax.plot(np.arange(iters), custo2, 'r')\n",
    "ax.set_xlabel('Iterações')\n",
    "ax.set_ylabel('Custo')\n",
    "ax.set_title('Erro vs. Treinamento')"
   ]
  },
  {
   "cell_type": "markdown",
   "metadata": {},
   "source": [
    "# 2.2 - Gradiente Descendente"
   ]
  },
  {
   "cell_type": "markdown",
   "metadata": {
    "collapsed": true
   },
   "source": [
    "As duas funções computarCusto e gradienteDescente, se mantiveram exatamente iguais as funções utilizadas na parte 1 deste exercício. \n",
    "\n",
    "Isto aconteceu devido à característica vetorizada na passagem dos parâmetros de entrada, onde a variável X(atributos independentes) sempre será carregada com as n-1 colunas do arquivo de entrada e a variável y (atributo target) com a última coluna do arquivo, com isto a implementação poderá ser utilizada para qualquer número de colunas que seja desejado."
   ]
  },
  {
   "cell_type": "markdown",
   "metadata": {},
   "source": [
    "# Exercício 3-  Regressão Logística\n"
   ]
  },
  {
   "cell_type": "markdown",
   "metadata": {},
   "source": [
    "Implementar a regressão logística. Em particular, criar um classiﬁcador para predizer se um estudante será admitido em uma universidade, com base nos resultados de duas avaliações. Suponha que estão disponíveis dados históricos acerca de realizações passadas dessas avaliações, e que esses dados históricos podem ser usados como conjunto de treinamento. \n",
    "Para cada exemplo desse conjunto de treinamento, temos as notas das duas avaliações e a decisão acerca do candidato (aprovado ou reprovado). "
   ]
  },
  {
   "cell_type": "markdown",
   "metadata": {},
   "source": [
    "# 3.1 Visualização dos dados\n"
   ]
  },
  {
   "cell_type": "markdown",
   "metadata": {},
   "source": [
    "O conjunto de dados fornecido é composto por duas variáveis independentes Nota1 e Nota2 e uma variável binária que classifica o candidato em Aprovado(1) ou Reprovado(0)."
   ]
  },
  {
   "cell_type": "code",
   "execution_count": 120,
   "metadata": {},
   "outputs": [
    {
     "data": {
      "text/html": [
       "<div>\n",
       "<style>\n",
       "    .dataframe thead tr:only-child th {\n",
       "        text-align: right;\n",
       "    }\n",
       "\n",
       "    .dataframe thead th {\n",
       "        text-align: left;\n",
       "    }\n",
       "\n",
       "    .dataframe tbody tr th {\n",
       "        vertical-align: top;\n",
       "    }\n",
       "</style>\n",
       "<table border=\"1\" class=\"dataframe\">\n",
       "  <thead>\n",
       "    <tr style=\"text-align: right;\">\n",
       "      <th></th>\n",
       "      <th>Nota1</th>\n",
       "      <th>Nota2</th>\n",
       "      <th>Admissao</th>\n",
       "    </tr>\n",
       "  </thead>\n",
       "  <tbody>\n",
       "    <tr>\n",
       "      <th>0</th>\n",
       "      <td>34.623660</td>\n",
       "      <td>78.024693</td>\n",
       "      <td>0</td>\n",
       "    </tr>\n",
       "    <tr>\n",
       "      <th>1</th>\n",
       "      <td>30.286711</td>\n",
       "      <td>43.894998</td>\n",
       "      <td>0</td>\n",
       "    </tr>\n",
       "    <tr>\n",
       "      <th>2</th>\n",
       "      <td>35.847409</td>\n",
       "      <td>72.902198</td>\n",
       "      <td>0</td>\n",
       "    </tr>\n",
       "    <tr>\n",
       "      <th>3</th>\n",
       "      <td>60.182599</td>\n",
       "      <td>86.308552</td>\n",
       "      <td>1</td>\n",
       "    </tr>\n",
       "    <tr>\n",
       "      <th>4</th>\n",
       "      <td>79.032736</td>\n",
       "      <td>75.344376</td>\n",
       "      <td>1</td>\n",
       "    </tr>\n",
       "  </tbody>\n",
       "</table>\n",
       "</div>"
      ],
      "text/plain": [
       "       Nota1      Nota2  Admissao\n",
       "0  34.623660  78.024693         0\n",
       "1  30.286711  43.894998         0\n",
       "2  35.847409  72.902198         0\n",
       "3  60.182599  86.308552         1\n",
       "4  79.032736  75.344376         1"
      ]
     },
     "execution_count": 120,
     "metadata": {},
     "output_type": "execute_result"
    }
   ],
   "source": [
    "arquivo = 'C:\\\\\\\\Users\\\\\\\\Raymundo\\\\\\\\Documents\\\\\\\\Franci\\\\\\\\MestradoCEFET\\\\\\\\7 Aprendizado de Máquina\\\\\\\\ex2data1.txt'\n",
    "\n",
    "ficheiro = open(arquivo, \"r\")\n",
    "\n",
    "dados3 = pd.read_csv(ficheiro, names = ['Nota1', 'Nota2', 'Admissao'])\n",
    "dados3.head()"
   ]
  },
  {
   "cell_type": "markdown",
   "metadata": {},
   "source": [
    "Plotando o gráfico de dispersão para visualizarmos a tendência dos dados conhecidos."
   ]
  },
  {
   "cell_type": "code",
   "execution_count": 121,
   "metadata": {},
   "outputs": [
    {
     "data": {
      "text/plain": [
       "<matplotlib.text.Text at 0x248e4c93da0>"
      ]
     },
     "execution_count": 121,
     "metadata": {},
     "output_type": "execute_result"
    },
    {
     "data": {
      "image/png": "[encoded data removed]",
      "text/plain": [
       "<matplotlib.figure.Figure at 0x248e3d10fd0>"
      ]
     },
     "metadata": {},
     "output_type": "display_data"
    }
   ],
   "source": [
    "positive = dados3[dados3['Admissao'].isin([1])]  \n",
    "negative = dados3[dados3['Admissao'].isin([0])]\n",
    "\n",
    "fig, ax = plt.subplots(figsize=(12,8))  \n",
    "ax.scatter(positive['Nota1'], positive['Nota2'], s=50, c='b', marker='o', label='Aprovado')  \n",
    "ax.scatter(negative['Nota1'], negative['Nota2'], s=50, c='r', marker='x', label='Reprovado')  \n",
    "ax.legend()  \n",
    "ax.set_xlabel('Nota 1 Score')  \n",
    "ax.set_ylabel('Nota 2 Score')  "
   ]
  },
  {
   "cell_type": "markdown",
   "metadata": {},
   "source": [
    "Pelo gráfico de dispersão mostrado, identificamos uma impossibilidade de representação da tendência dos dados através de uma única reta linear."
   ]
  },
  {
   "cell_type": "markdown",
   "metadata": {},
   "source": [
    "# 3.2.1 Função Sigmoide"
   ]
  },
  {
   "cell_type": "code",
   "execution_count": 122,
   "metadata": {
    "collapsed": true
   },
   "outputs": [],
   "source": [
    "def sigmoid(z):  \n",
    "    return 1 / (1 + np.exp(-z))"
   ]
  },
  {
   "cell_type": "markdown",
   "metadata": {},
   "source": [
    "Esta função é a função \"ativação\" para o resultado da regressão logística. Converte uma entrada contínua em um valor entre zero e um. Esse valor pode ser interpretado como a probabilidade da classe ou a probabilidade de que o exemplo de entrada seja classificado positivamente. Usando essa probabilidade juntamente com um valor limiar, podemos obter uma predição discreta de rótulos. Isso ajuda a visualizar a saída da função para ver o que realmente está fazendo."
   ]
  },
  {
   "cell_type": "markdown",
   "metadata": {},
   "source": [
    "Testando a função sigmoid com 0, valores altos e valores baixos."
   ]
  },
  {
   "cell_type": "code",
   "execution_count": 123,
   "metadata": {},
   "outputs": [
    {
     "data": {
      "text/plain": [
       "0.5"
      ]
     },
     "execution_count": 123,
     "metadata": {},
     "output_type": "execute_result"
    }
   ],
   "source": [
    "sigmoid(0)"
   ]
  },
  {
   "cell_type": "code",
   "execution_count": 124,
   "metadata": {},
   "outputs": [
    {
     "data": {
      "text/plain": [
       "1.0"
      ]
     },
     "execution_count": 124,
     "metadata": {},
     "output_type": "execute_result"
    }
   ],
   "source": [
    "sigmoid(10000)"
   ]
  },
  {
   "cell_type": "markdown",
   "metadata": {},
   "source": [
    "# 3.2.2 Função de custo e gradiente\n"
   ]
  },
  {
   "cell_type": "code",
   "execution_count": 125,
   "metadata": {},
   "outputs": [],
   "source": [
    "def cost(theta, X, y):  \n",
    "    theta = np.matrix(theta)\n",
    "    X = np.matrix(X)\n",
    "    y = np.matrix(y)\n",
    "    first = np.multiply(-y, np.log(sigmoid(X * theta.T)))\n",
    "    second = np.multiply((1 - y), np.log(1 - sigmoid(X * theta.T)))\n",
    "    return np.sum(first - second) / (len(X))"
   ]
  },
  {
   "cell_type": "code",
   "execution_count": 126,
   "metadata": {},
   "outputs": [],
   "source": [
    "# add a ones column - this makes the matrix multiplication work out easier\n",
    "dados3.insert(0, 'Ones', 1)\n",
    "\n",
    "# set X (training data) and y (target variable)\n",
    "cols = dados3.shape[1]  \n",
    "X = dados3.iloc[:,0:cols-1]  \n",
    "y = dados3.iloc[:,cols-1:cols]\n",
    "\n",
    "# convert to numpy arrays and initalize the parameter array theta\n",
    "X = np.array(X.values)  \n",
    "y = np.array(y.values)  \n",
    "theta = np.zeros(3)  "
   ]
  },
  {
   "cell_type": "code",
   "execution_count": 127,
   "metadata": {},
   "outputs": [
    {
     "data": {
      "text/plain": [
       "0.69314718055994529"
      ]
     },
     "execution_count": 127,
     "metadata": {},
     "output_type": "execute_result"
    }
   ],
   "source": [
    "cost(theta, X, y)  "
   ]
  },
  {
   "cell_type": "code",
   "execution_count": 128,
   "metadata": {
    "collapsed": true
   },
   "outputs": [],
   "source": [
    "def gradient(theta, X, y):  \n",
    "    theta = np.matrix(theta)\n",
    "    X = np.matrix(X)\n",
    "    y = np.matrix(y)\n",
    "\n",
    "    parameters = int(theta.ravel().shape[1])\n",
    "    grad = np.zeros(parameters)\n",
    "\n",
    "    error = sigmoid(X * theta.T) - y\n",
    "\n",
    "    for i in range(parameters):\n",
    "        term = np.multiply(error, X[:,i])\n",
    "        grad[i] = np.sum(term) / len(X)\n",
    "\n",
    "    return grad"
   ]
  },
  {
   "cell_type": "markdown",
   "metadata": {},
   "source": [
    "# 3.2.3- Aprendizado dos Parâmetros"
   ]
  },
  {
   "cell_type": "code",
   "execution_count": 129,
   "metadata": {},
   "outputs": [
    {
     "data": {
      "text/plain": [
       "0.20349770158947464"
      ]
     },
     "execution_count": 129,
     "metadata": {},
     "output_type": "execute_result"
    }
   ],
   "source": [
    "import scipy.optimize as opt  \n",
    "result = opt.fmin_tnc(func=cost, x0=theta, fprime=gradient, args=(X, y))  \n",
    "cost(result[0], X, y) "
   ]
  },
  {
   "cell_type": "markdown",
   "metadata": {},
   "source": [
    "# 3.2.4 Avaliação do modelo"
   ]
  },
  {
   "cell_type": "code",
   "execution_count": 132,
   "metadata": {},
   "outputs": [
    {
     "name": "stdout",
     "output_type": "stream",
     "text": [
      "Precisão = 89%\n"
     ]
    }
   ],
   "source": [
    "def predict(theta, X):  \n",
    "    probability = sigmoid(X * theta.T)\n",
    "    return [1 if x >= 0.5 else 0 for x in probability]\n",
    "\n",
    "theta_min = np.matrix(result[0])  \n",
    "predictions = predict(theta_min, X)  \n",
    "correct = [1 if ((a == 1 and b == 1) or (a == 0 and b == 0)) else 0 for (a, b) in zip(predictions, y)]  \n",
    "accuracy = (sum(map(int, correct)) % len(correct))  \n",
    "print(\"Precisão = {0}%\".format(accuracy))\n",
    "\n"
   ]
  },
  {
   "cell_type": "markdown",
   "metadata": {},
   "source": [
    "Usar o modelo correspondente para predizer se um candidato qualquer será aprovado. Para um candidato\n",
    "com notas 45 e 85 na primeira e segunda avaliações, respectivamente, você deve\n",
    "esperar que ele seja aprovado com probabilidade 0,776."
   ]
  },
  {
   "cell_type": "code",
   "execution_count": 133,
   "metadata": {},
   "outputs": [
    {
     "name": "stdout",
     "output_type": "stream",
     "text": [
      "[[ 1 45 85]]\n",
      "[1]\n",
      "[0]\n",
      "Precisão = 0%\n"
     ]
    }
   ],
   "source": [
    "X0 = np.matrix([1, 45, 85])\n",
    "print(X0)\n",
    "\n",
    "             \n",
    "theta_min = np.matrix(result[0])  \n",
    "predictions = predict(theta_min, X0)  \n",
    "print(predictions)\n",
    "correct = [1 if ((a == 1 and b == 1) or (a == 0 and b == 0)) else 0 for (a, b) in zip(predictions, y)]  \n",
    "print(correct)\n",
    "accuracy = (sum(map(int, correct)) % len(correct))  \n",
    "print(\"Precisão = {0}%\".format(accuracy))\n"
   ]
  },
  {
   "cell_type": "code",
   "execution_count": null,
   "metadata": {
    "collapsed": true
   },
   "outputs": [],
   "source": []
  },
  {
   "cell_type": "code",
   "execution_count": null,
   "metadata": {
    "collapsed": true
   },
   "outputs": [],
   "source": []
  }
 ],
 "metadata": {
  "kernelspec": {
   "display_name": "Python 3",
   "language": "python",
   "name": "python3"
  },
  "language_info": {
   "codemirror_mode": {
    "name": "ipython",
    "version": 3
   },
   "file_extension": ".py",
   "mimetype": "text/x-python",
   "name": "python",
   "nbconvert_exporter": "python",
   "pygments_lexer": "ipython3",
   "version": "3.6.1"
  }
 },
 "nbformat": 4,
 "nbformat_minor": 2
}
